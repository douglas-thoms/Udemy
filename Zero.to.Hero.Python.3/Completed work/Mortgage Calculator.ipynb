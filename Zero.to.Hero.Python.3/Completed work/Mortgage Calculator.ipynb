{
 "cells": [
  {
   "cell_type": "markdown",
   "metadata": {},
   "source": [
    "Mortgage Calculator - Calculate the monthly payments of a fixed term mortgage over given Nth terms at a given interest rate. Also figure out how long it will take the user to pay back the loan. For added complexity, add an option for users to select the compounding interval (Monthly, Weekly, Daily, Continually)."
   ]
  },
  {
   "cell_type": "code",
   "execution_count": 22,
   "metadata": {},
   "outputs": [
    {
     "name": "stdout",
     "output_type": "stream",
     "text": [
      "Time unit: day\n",
      "Enter mortgage term: 7300\n",
      "Payments per term: 365\n",
      "Loan amount: 600000\n",
      "Enter interest rate: .05\n",
      "Payment for a $600000.00 mortage,\n",
      " over 7300 each day year,\n",
      " at 0.05 interest rate is:\n",
      " $82.19\n"
     ]
    }
   ],
   "source": [
    "\n",
    "#inputs - number of terms, interest rate, compounding interval, mortgage term\n",
    "#output - monthly payments, time to pay mortgage\n",
    "\n",
    "#timeframe\n",
    "timeUnit = str(input(\"Time unit: \"))\n",
    "\n",
    "#number of terms (payment periods)\n",
    "term = int(input(\"Enter mortgage term: \"))\n",
    "\n",
    "#payment per term\n",
    "paymentsPerYear = int(input(\"Payments per term: \"))\n",
    "\n",
    "#principal = 500000\n",
    "p = float(input(\"Loan amount: \"))\n",
    "\n",
    "#annual interestRate \n",
    "i = float(input(\"Enter interest rate: \"))\n",
    "\n",
    "#interval interestRate\n",
    "r = i/paymentsPerYear\n",
    "\n",
    "#use a dictionary to recall number\n",
    "#drop bar\n",
    "\n",
    "\n",
    "#numberPayments \n",
    "n = paymentsPerYear * term\n",
    "\n",
    "monthlyPayment = (p*r*(1 + r)**n) / ((1 + r)**n - 1)\n",
    "\n",
    "print(\"Payment for a $%.2f mortage,\\n over %s each %s year,\\n at %.2f interest rate is:\\n $%.2f\" % (p, term, timeUnit, i, monthlyPayment))\n"
   ]
  },
  {
   "cell_type": "code",
   "execution_count": null,
   "metadata": {},
   "outputs": [],
   "source": []
  }
 ],
 "metadata": {
  "kernelspec": {
   "display_name": "Python 3",
   "language": "python",
   "name": "python3"
  },
  "language_info": {
   "codemirror_mode": {
    "name": "ipython",
    "version": 3
   },
   "file_extension": ".py",
   "mimetype": "text/x-python",
   "name": "python",
   "nbconvert_exporter": "python",
   "pygments_lexer": "ipython3",
   "version": "3.7.4"
  }
 },
 "nbformat": 4,
 "nbformat_minor": 2
}
