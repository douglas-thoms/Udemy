{
 "cells": [
  {
   "cell_type": "code",
   "execution_count": 1,
   "metadata": {},
   "outputs": [],
   "source": [
    "#making deck object\n",
    "\n",
    "#needed attributes\n",
    "#group of cards - as a dictionary (card type:# of cards) ie. {\"1\":1}\n",
    "#set up a dictionary\n",
    "\n",
    "#methods\n",
    "#number of cards\n",
    "#remove cards\n",
    "#reset deck to 54 cards\n",
    "#randomly take a card\n",
    "\n",
    "\n",
    "#making hand object\n",
    "#attributes\n",
    "#list if cards\n",
    "\n",
    "\n",
    "\n",
    "#methods\n",
    "#reset empty hand\n",
    "#group of cards - as a dictionary (card type:# of cards) ie. {\"1\":1}\n",
    "#add a card\n",
    "# calculate value of hand\n",
    "\n",
    "#function\n",
    "#dealer input\n",
    "#deal self, if below x add card\n",
    "#else stop\n",
    "\n",
    "\n",
    "#function\n",
    "#player input\n",
    "#next step\n",
    "#calculate value\n",
    "#if over 21 lose\n",
    "#choice - add card?\n",
    "#if add card - review value loop\n",
    "#if stop, if player hand > dealer hand, win\n",
    "#reset game"
   ]
  },
  {
   "cell_type": "code",
   "execution_count": 22,
   "metadata": {},
   "outputs": [],
   "source": [
    "import random"
   ]
  },
  {
   "cell_type": "code",
   "execution_count": 38,
   "metadata": {},
   "outputs": [],
   "source": [
    "#create class for cards\n",
    "class cards():\n",
    "    \n",
    "    cardValues = {\n",
    "        \"2\" : 2,\n",
    "        \"3\" : 3,\n",
    "        \"4\" : 4,\n",
    "        \"5\" : 5,\n",
    "        \"6\" : 6,\n",
    "        \"7\" : 7,\n",
    "        \"8\" : 8,\n",
    "        \"9\" : 9,\n",
    "        \"10\" : 10,\n",
    "        \"J\" : 10,\n",
    "        \"Q\" : 10,\n",
    "        \"K\" : 10,\n",
    "        \"Q\" : 10\n",
    "         }\n",
    "    \n",
    "    def __init__(self,cards):\n",
    "        self.Cards = cards\n",
    "        \n",
    "        def handValue(self):\n",
    "            \n",
    "            #need to show hands\n",
    "            print(cards)\n",
    "            print(\"calculating hand value\")\n",
    "            value = 0\n",
    "            #pull up values\n",
    "\n",
    "                    \n",
    "            for x in Deck:\n",
    "                if x == 'A':\n",
    "                    pass\n",
    "                    #input whether Ace is 1 or 10\n",
    "                    #error only 1 or 10\n",
    "                    #value = value + ace value\n",
    "                else:\n",
    "                    #use dictionary of card values\n",
    "                    value = cardValues.get(x) + value\n",
    "            \n",
    "            return value\n",
    "        \n",
    "        \n",
    "        def __str__(self):\n",
    "            return f\"circumference is {self.circumference}, area is {self.circleArea}\"\n",
    "    \n",
    "        def __len__(self):\n",
    "            return self.Cards\n",
    "    \n",
    "        def __del__(self):\n",
    "            print(\"New Cards\")"
   ]
  },
  {
   "cell_type": "code",
   "execution_count": null,
   "metadata": {},
   "outputs": [],
   "source": [
    "#create polyporphism\n",
    "class dealerDeck(cards):\n",
    "    def __init__(self):\n",
    "        cards.__init_self()"
   ]
  },
  {
   "cell_type": "code",
   "execution_count": 39,
   "metadata": {},
   "outputs": [
    {
     "name": "stdout",
     "output_type": "stream",
     "text": [
      "11\n",
      "4\n",
      "['2', '2', '2', '2', '3', '3', '3', '3', '4', '4', '4', '5', '5', '5', '5', '6', '6', '6', '6', '7', '7', '7', '7', '8', '8', '8', '8', '9', '9', '9', '9', '10', '10', '10', '10', 'J', 'J', 'J', 'J', 'Q', 'Q', 'Q', 'Q', 'K', 'K', 'K', 'K', 'A', 'A', 'A', 'A']\n"
     ]
    }
   ],
   "source": [
    "#Pull card method/function\n",
    "\n",
    "Deck = ['2']*4+['3']*4+['4']*4+['5']*4+['6']*4+['7']*4+['8']*4+['9']*4+['10']*4+['J']*4+['Q']*4+['K']*4+['A']*4\n",
    "randomIndex = random.randint(0,len(Deck)-1)\n",
    "print(randomIndex)\n",
    "drawnCard = Deck.pop(randomIndex)\n",
    "print(drawnCard)\n",
    "print(Deck)"
   ]
  },
  {
   "cell_type": "code",
   "execution_count": 57,
   "metadata": {},
   "outputs": [
    {
     "name": "stdout",
     "output_type": "stream",
     "text": [
      "0\n",
      "1\n",
      "13\n"
     ]
    }
   ],
   "source": [
    "    Deck = ['2','A','10']\n",
    "    cardValues = {\n",
    "        \"2\" : 2,\n",
    "        \"3\" : 3,\n",
    "        \"4\" : 4,\n",
    "        \"5\" : 5,\n",
    "        \"6\" : 6,\n",
    "        \"7\" : 7,\n",
    "        \"8\" : 8,\n",
    "        \"9\" : 9,\n",
    "        \"10\" : 10,\n",
    "        \"J\" : 10,\n",
    "        \"Q\" : 10,\n",
    "        \"K\" : 10,\n",
    "        \"Q\" : 10\n",
    "         }\n",
    "    \n",
    "    value = 0\n",
    "    aces = 0\n",
    "    print(aces)\n",
    "    for x in Deck:\n",
    "        if x == 'A':\n",
    "            aces = 1 + aces\n",
    "        else:\n",
    "            value = cardValues.get(x) + value\n",
    "    \n",
    "    if aces > 2 or value > 10:\n",
    "        value = value + aces*1\n",
    "    else:\n",
    "        value = value + aces*11\n",
    "        \n",
    "    print(aces)\n",
    "    print(value)"
   ]
  },
  {
   "cell_type": "code",
   "execution_count": null,
   "metadata": {},
   "outputs": [],
   "source": []
  }
 ],
 "metadata": {
  "kernelspec": {
   "display_name": "Python 3",
   "language": "python",
   "name": "python3"
  },
  "language_info": {
   "codemirror_mode": {
    "name": "ipython",
    "version": 3
   },
   "file_extension": ".py",
   "mimetype": "text/x-python",
   "name": "python",
   "nbconvert_exporter": "python",
   "pygments_lexer": "ipython3",
   "version": "3.7.4"
  }
 },
 "nbformat": 4,
 "nbformat_minor": 2
}
