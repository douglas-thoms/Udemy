{
 "cells": [
  {
   "cell_type": "code",
   "execution_count": 2,
   "metadata": {},
   "outputs": [],
   "source": [
    "#making deck object\n",
    "\n",
    "#needed attributes\n",
    "#group of cards - as a dictionary (card type:# of cards) ie. {\"1\":1}\n",
    "#set up a dictionary\n",
    "\n",
    "#methods\n",
    "#number of cards\n",
    "#remove cards\n",
    "#reset deck to 54 cards\n",
    "#randomly take a card\n",
    "\n",
    "\n",
    "#making hand object\n",
    "#attributes\n",
    "#list if cards\n",
    "\n",
    "\n",
    "\n",
    "#methods\n",
    "#reset empty hand\n",
    "#group of cards - as a dictionary (card type:# of cards) ie. {\"1\":1}\n",
    "#add a card\n",
    "# calculate value of hand\n",
    "\n",
    "#function\n",
    "#dealer input\n",
    "#deal self, if below x add card\n",
    "#else stop\n",
    "\n",
    "\n",
    "#function\n",
    "#player input\n",
    "#next step\n",
    "#calculate value\n",
    "#if over 21 lose\n",
    "#choice - add card?\n",
    "#if add card - review value loop\n",
    "#if stop, if player hand > dealer hand, win\n",
    "#reset game"
   ]
  },
  {
   "cell_type": "code",
   "execution_count": 3,
   "metadata": {},
   "outputs": [],
   "source": [
    "import random"
   ]
  },
  {
   "cell_type": "code",
   "execution_count": 4,
   "metadata": {},
   "outputs": [],
   "source": [
    "#create class for cards\n",
    "class hand():\n",
    "    \n",
    "    def __init__(self):\n",
    "        print(cards)\n",
    "        self.cards = cards\n",
    "    \n",
    " #give two values depending on ace\n",
    "    def handValue(self):\n",
    "\n",
    "        cardValues = {\n",
    "        \"2\" : 2,\n",
    "        \"3\" : 3,\n",
    "        \"4\" : 4,\n",
    "        \"5\" : 5,\n",
    "        \"6\" : 6,\n",
    "        \"7\" : 7,\n",
    "        \"8\" : 8,\n",
    "        \"9\" : 9,\n",
    "        \"10\" : 10,\n",
    "        \"J\" : 10,\n",
    "        \"Q\" : 10,\n",
    "        \"K\" : 10,\n",
    "        \"Q\" : 10\n",
    "         }\n",
    "        \n",
    "        #need to show hands\n",
    "        print(self.cards)\n",
    "        print(\"calculating hand value\")\n",
    "        handValue = 0\n",
    "        aces = 0\n",
    "        #pull up values\n",
    "\n",
    "        for x in self.cards:\n",
    "            if x == 'A':\n",
    "                aces += 1 \n",
    "                \n",
    "\n",
    "                #value = value + ace value\n",
    "            else:\n",
    "                #use dictionary of card values\n",
    "                handValue += cardValues.get(x)\n",
    "\n",
    "        #return 2-part list with alternative values depending on A value - only one A can be 11 before going bust\n",
    "        #only one A can be 11 and only 11 if less than 21 or less combined\n",
    "        #so A is either 11 + len(aces)-1            \n",
    "\n",
    "        if aces == 1:\n",
    "            if handValue + 11 >= 21:\n",
    "                return handValue + 1\n",
    "            else:\n",
    "                return handValue + 11\n",
    "    \n",
    "        elif aces >= 2:\n",
    "            if handValue + 11 + aces-1 >= 21:\n",
    "                return handValue + aces \n",
    "            else:                  \n",
    "                return handValue + 11 + aces-1\n",
    "        else:\n",
    "            return handValue\n",
    "        \n",
    "    def __str__(self):\n",
    "        value = self.handValue()\n",
    "        return f\"Your hand is {self.cards} and value is {value}\"\n",
    "        #Do I want to add value of hand? how?\n",
    "\n",
    "    def __len__(self):\n",
    "        return self.cards\n",
    "\n",
    "    def __del__(self):\n",
    "        print(\"New Cards\")\n",
    "        \n",
    "        \n",
    "#put these functions outside\n",
    "#deal - input for player - is dealer? they stop at 18\n",
    "#check win"
   ]
  },
  {
   "cell_type": "code",
   "execution_count": 37,
   "metadata": {},
   "outputs": [],
   "source": [
    "class playerHand(hand):\n",
    "    def __init__(self):\n",
    "        print(\"New Player\")\n",
    "        self.cards = []\n",
    "        \n",
    "    def resetCard(self):\n",
    "        self.cards = []\n",
    "        print(\"New Hand\")\n",
    "        print(self.cards)\n",
    "        \n",
    "    def addCard(self,dealtCard):\n",
    "        self.cards.append(dealtCard)\n",
    "        print(self.cards)\n",
    "        print(f\"Player has been dealt a {dealtCard} and their hand is {self.cards}\")\n",
    "        \n",
    "    def showHand(self):\n",
    "        print(f\"Player hand is {self.cards}\")\n",
    "        \n",
    "        \n",
    "class dealerHand(hand):\n",
    "    def __init__(self):\n",
    "        print(\"New Dealer\")\n",
    "        self.cards = []\n",
    "        \n",
    "    def resetCard(self):\n",
    "        self.cards = []\n",
    "        print(\"New Hand\")\n",
    "        print(self.cards)\n",
    "        \n",
    "    def addCard(self,dealtCard):\n",
    "        self.cards.append(dealtCard)\n",
    "        print(self.cards)\n",
    "        print(f\"Dealer has been dealt a card\")\n",
    "        \n",
    "    def showHand(self):\n",
    "        print(f\"Dealer hand is {self.cards}\")\n",
    "        \n",
    "        \n",
    "        \n",
    "class dealerDeck(hand):\n",
    "    def __init__(self):\n",
    "        print(\"New Deck\")\n",
    "        self.cards = ['2']*4+['3']*4+['4']*4+['5']*4+['6']*4+['7']*4+['8']*4+['9']*4+['10']*4+['J']*4+['Q']*4+['K']*4+['A']*4\n",
    "        print(self.cards)\n",
    "        \n",
    "    def resetCard(self):\n",
    "        print(\"New Deck\")\n",
    "        self.cards = ['2']*4+['3']*4+['4']*4+['5']*4+['6']*4+['7']*4+['8']*4+['9']*4+['10']*4+['J']*4+['Q']*4+['K']*4+['A']*4\n",
    "        print(self.cards)\n",
    "        \n",
    "    def removeCard(self):\n",
    "        randomIndex = random.randint(0,len(self.cards)-1)\n",
    "        drawnCard = self.cards.pop(randomIndex)\n",
    "        print(drawnCard)\n",
    "        print(self.cards)\n",
    "        return drawnCard\n",
    "\n",
    "    def __str__(self):\n",
    "        return self.removeCard()\n",
    "    \n",
    "#    class Person:\n",
    "#    age = 23\n",
    "\n",
    "#    def __index__(self):\n",
    "#        return self.age\n",
    "    \n",
    "#    def __int__(self):\n",
    "#        return self.age\n",
    "\n",
    "#person = Person()\n",
    "#print('int(person) is:', int(person))\n",
    "    "
   ]
  },
  {
   "cell_type": "code",
   "execution_count": 39,
   "metadata": {},
   "outputs": [
    {
     "name": "stdout",
     "output_type": "stream",
     "text": [
      "New Deck\n",
      "['2', '2', '2', '2', '3', '3', '3', '3', '4', '4', '4', '4', '5', '5', '5', '5', '6', '6', '6', '6', '7', '7', '7', '7', '8', '8', '8', '8', '9', '9', '9', '9', '10', '10', '10', '10', 'J', 'J', 'J', 'J', 'Q', 'Q', 'Q', 'Q', 'K', 'K', 'K', 'K', 'A', 'A', 'A', 'A']\n",
      "New Cards\n",
      "New Dealer\n",
      "New Cards\n",
      "New Player\n",
      "New Cards\n",
      "4\n",
      "['2', '2', '2', '2', '3', '3', '3', '3', '4', '4', '4', '5', '5', '5', '5', '6', '6', '6', '6', '7', '7', '7', '7', '8', '8', '8', '8', '9', '9', '9', '9', '10', '10', '10', '10', 'J', 'J', 'J', 'J', 'Q', 'Q', 'Q', 'Q', 'K', 'K', 'K', 'K', 'A', 'A', 'A', 'A']\n",
      "4\n",
      "K\n",
      "['2', '2', '2', '2', '3', '3', '3', '3', '4', '4', '4', '5', '5', '5', '5', '6', '6', '6', '6', '7', '7', '7', '7', '8', '8', '8', '8', '9', '9', '9', '9', '10', '10', '10', '10', 'J', 'J', 'J', 'J', 'Q', 'Q', 'Q', 'Q', 'K', 'K', 'K', 'A', 'A', 'A', 'A']\n",
      "['K']\n",
      "Dealer has been dealt a card\n",
      "3\n",
      "['2', '2', '2', '2', '3', '3', '3', '4', '4', '4', '5', '5', '5', '5', '6', '6', '6', '6', '7', '7', '7', '7', '8', '8', '8', '8', '9', '9', '9', '9', '10', '10', '10', '10', 'J', 'J', 'J', 'J', 'Q', 'Q', 'Q', 'Q', 'K', 'K', 'K', 'A', 'A', 'A', 'A']\n",
      "3\n",
      "9\n",
      "['2', '2', '2', '2', '3', '3', '3', '4', '4', '4', '5', '5', '5', '5', '6', '6', '6', '6', '7', '7', '7', '7', '8', '8', '8', '8', '9', '9', '9', '10', '10', '10', '10', 'J', 'J', 'J', 'J', 'Q', 'Q', 'Q', 'Q', 'K', 'K', 'K', 'A', 'A', 'A', 'A']\n",
      "['9']\n",
      "Player has been dealt a 9 and their hand is ['9']\n"
     ]
    }
   ],
   "source": [
    "#A bet once paid and collected is never returned. Thus, one key advantage to the dealer is that the player goes first. \n",
    "#If the player goes bust, they have already lost their wager, even if the dealer goes bust as well. \n",
    "#If the dealer goes over 21, the dealer pays each player who has stood the amount of that player's bet. \n",
    "#If the dealer stands at 21 or less, the dealer pays the bet of any player having a higher total (not exceeding 21) \n",
    "#and collects the bet of any player having a lower total. If there is a stand-off \n",
    "#(a player having the same total as the dealer), no chips are paid out or collected.\n",
    "\n",
    "#WRITE THIS OUT\n",
    "\n",
    "#deck joins game\n",
    "deck = dealerDeck()\n",
    "#dealer joins game\n",
    "dealer = dealerHand()\n",
    "#player joins game\n",
    "player = playerHand()\n",
    "#player makes bet\n",
    "\n",
    "#dealer gives dealer unseen card\n",
    "dealtCard = str(deck)\n",
    "print(dealtCard)\n",
    "dealer.addCard(str(deck))\n",
    "\n",
    "#dealer gives play seen card\n",
    "dealtCard = str(deck)\n",
    "print(dealtCard)\n",
    "player.addCard(str(deck))\n",
    "#print got card, this is card\n",
    "\n",
    "#player turn\n",
    "#dealer addCard\n",
    "#while not bust and input hit\n",
    "    #if input hit\n",
    "    #addCard\n",
    "    #check bust - flip bust flag\n",
    "#if bust flag, dealer winner\n",
    "#else dealer\n",
    "\n",
    "#dealer\n",
    "#add Card\n",
    "#while handvalue < 17 and not bust\n",
    "    #addCard\n",
    "    # after each check bust\n",
    "    #if bust - flip bust flag\n",
    "#if bust flag, dealer final winner\n",
    "#else check winner\n",
    "#reset deck\n",
    "\n",
    "\n",
    "\n",
    "#run this after each deal\n",
    "# check bust\n",
    "# if current hand over 21 bust\n",
    "#other wins\n",
    "\n",
    "#check winner\n",
    "#if ((dealer handvalue == player handvalue)\n",
    "# tie\n",
    "# return bet\n",
    "\n",
    "#elif  (dealer >= player)\n",
    "#dealer wins\n",
    "\n",
    "#else \n",
    "#player wins\n",
    "#return bet *2"
   ]
  },
  {
   "cell_type": "code",
   "execution_count": 14,
   "metadata": {},
   "outputs": [
    {
     "name": "stdout",
     "output_type": "stream",
     "text": [
      "['A']\n",
      "Player has been dealt a A and their hand is ['A']\n",
      "New Hand\n",
      "[]\n"
     ]
    }
   ],
   "source": [
    "#create player1 if missing\n",
    "#see if reset works\n",
    "try:\n",
    "    player1\n",
    "except NameError:\n",
    "    player1 = playerHand()\n",
    "    \n",
    "player1.addCard('A')\n",
    "\n",
    "player1.resetCard()\n"
   ]
  },
  {
   "cell_type": "code",
   "execution_count": 167,
   "metadata": {},
   "outputs": [
    {
     "name": "stdout",
     "output_type": "stream",
     "text": [
      "['2', '2', '2', '2', '3', '3', '3', '3', '4', '4', '4', '4', '5', '5', '5', '5', '6', '6', '6', '6', '7', '7', '7', '7', '8', '8', '8', '8', '9', '9', '9', '9', '10', '10', '10', '10', 'J', 'J', 'J', 'J', 'Q', 'Q', 'Q', 'Q', 'K', 'K', 'K', 'K', 'A', 'A', 'A', 'A']\n",
      "New Cards\n",
      "[]\n",
      "New Cards\n",
      "[]\n",
      "New Cards\n"
     ]
    }
   ],
   "source": [
    "#set the hands\n",
    "fullDeck = ['2']*4+['3']*4+['4']*4+['5']*4+['6']*4+['7']*4+['8']*4+['9']*4+['10']*4+['J']*4+['Q']*4+['K']*4+['A']*4\n",
    "dealerDeck = hand(fullDeck)\n",
    "dealerHand = hand([])\n",
    "playerHand = hand([])"
   ]
  },
  {
   "cell_type": "code",
   "execution_count": 175,
   "metadata": {},
   "outputs": [
    {
     "name": "stdout",
     "output_type": "stream",
     "text": [
      "5\n",
      "['2', '2', '2', '2', '3', '3', '3', '3', '4', '4', '5', '5', '5', '6', '6', '6', '6', '7', '7', '7', '7', '8', '8', '8', '9', '9', '9', '9', '10', '10', '10', '10', 'J', 'J', 'J', 'J', 'Q', 'Q', 'Q', 'K', 'K', 'K', 'A', 'A', 'A', 'A']\n",
      "['5']\n",
      "You've been dealt a 5 and your hand is ['5']\n",
      "['5']\n",
      "calculating hand value\n"
     ]
    },
    {
     "data": {
      "text/plain": [
       "\"Your hand is ['5'] and value is 5\""
      ]
     },
     "execution_count": 175,
     "metadata": {},
     "output_type": "execute_result"
    }
   ],
   "source": [
    "drawnCard = dealerDeck.removeCard()\n",
    "playerHand.addCard(drawnCard)\n",
    "str(playerHand)"
   ]
  },
  {
   "cell_type": "code",
   "execution_count": 174,
   "metadata": {},
   "outputs": [
    {
     "name": "stdout",
     "output_type": "stream",
     "text": [
      "[]\n"
     ]
    }
   ],
   "source": [
    "playerHand.dumpHand()"
   ]
  },
  {
   "cell_type": "code",
   "execution_count": 156,
   "metadata": {},
   "outputs": [
    {
     "name": "stdout",
     "output_type": "stream",
     "text": [
      "['2', '5', 'A']\n",
      "calculating hand value\n",
      "1\n",
      "7\n",
      "New Cards\n",
      "New Cards\n",
      "New Cards\n"
     ]
    }
   ],
   "source": [
    "str(myhand)\n",
    "del dealerDeck\n",
    "del dealerHand\n",
    "del playerHand"
   ]
  },
  {
   "cell_type": "code",
   "execution_count": 149,
   "metadata": {},
   "outputs": [
    {
     "name": "stdout",
     "output_type": "stream",
     "text": [
      "['8', '9', '6', '3', '2']\n",
      "You've been dealt a 2 and your hand is ['8', '9', '6', '3', '2']\n",
      "['8', '9', '6', '3', '2']\n",
      "calculating hand value\n"
     ]
    },
    {
     "data": {
      "text/plain": [
       "\"Your hand is ['8', '9', '6', '3', '2'] and value is 28\""
      ]
     },
     "execution_count": 149,
     "metadata": {},
     "output_type": "execute_result"
    }
   ],
   "source": [
    "playerHand.addCard('2')\n",
    "str(playerHand)\n"
   ]
  },
  {
   "cell_type": "code",
   "execution_count": 60,
   "metadata": {},
   "outputs": [
    {
     "ename": "NameError",
     "evalue": "name 'Deck' is not defined",
     "output_type": "error",
     "traceback": [
      "\u001b[1;31m---------------------------------------------------------------------------\u001b[0m",
      "\u001b[1;31mNameError\u001b[0m                                 Traceback (most recent call last)",
      "\u001b[1;32m<ipython-input-60-e57fd529ecdc>\u001b[0m in \u001b[0;36m<module>\u001b[1;34m\u001b[0m\n\u001b[0;32m      2\u001b[0m \u001b[1;33m\u001b[0m\u001b[0m\n\u001b[0;32m      3\u001b[0m \u001b[0mfullDeck\u001b[0m \u001b[1;33m=\u001b[0m \u001b[1;33m[\u001b[0m\u001b[1;34m'2'\u001b[0m\u001b[1;33m]\u001b[0m\u001b[1;33m*\u001b[0m\u001b[1;36m4\u001b[0m\u001b[1;33m+\u001b[0m\u001b[1;33m[\u001b[0m\u001b[1;34m'3'\u001b[0m\u001b[1;33m]\u001b[0m\u001b[1;33m*\u001b[0m\u001b[1;36m4\u001b[0m\u001b[1;33m+\u001b[0m\u001b[1;33m[\u001b[0m\u001b[1;34m'4'\u001b[0m\u001b[1;33m]\u001b[0m\u001b[1;33m*\u001b[0m\u001b[1;36m4\u001b[0m\u001b[1;33m+\u001b[0m\u001b[1;33m[\u001b[0m\u001b[1;34m'5'\u001b[0m\u001b[1;33m]\u001b[0m\u001b[1;33m*\u001b[0m\u001b[1;36m4\u001b[0m\u001b[1;33m+\u001b[0m\u001b[1;33m[\u001b[0m\u001b[1;34m'6'\u001b[0m\u001b[1;33m]\u001b[0m\u001b[1;33m*\u001b[0m\u001b[1;36m4\u001b[0m\u001b[1;33m+\u001b[0m\u001b[1;33m[\u001b[0m\u001b[1;34m'7'\u001b[0m\u001b[1;33m]\u001b[0m\u001b[1;33m*\u001b[0m\u001b[1;36m4\u001b[0m\u001b[1;33m+\u001b[0m\u001b[1;33m[\u001b[0m\u001b[1;34m'8'\u001b[0m\u001b[1;33m]\u001b[0m\u001b[1;33m*\u001b[0m\u001b[1;36m4\u001b[0m\u001b[1;33m+\u001b[0m\u001b[1;33m[\u001b[0m\u001b[1;34m'9'\u001b[0m\u001b[1;33m]\u001b[0m\u001b[1;33m*\u001b[0m\u001b[1;36m4\u001b[0m\u001b[1;33m+\u001b[0m\u001b[1;33m[\u001b[0m\u001b[1;34m'10'\u001b[0m\u001b[1;33m]\u001b[0m\u001b[1;33m*\u001b[0m\u001b[1;36m4\u001b[0m\u001b[1;33m+\u001b[0m\u001b[1;33m[\u001b[0m\u001b[1;34m'J'\u001b[0m\u001b[1;33m]\u001b[0m\u001b[1;33m*\u001b[0m\u001b[1;36m4\u001b[0m\u001b[1;33m+\u001b[0m\u001b[1;33m[\u001b[0m\u001b[1;34m'Q'\u001b[0m\u001b[1;33m]\u001b[0m\u001b[1;33m*\u001b[0m\u001b[1;36m4\u001b[0m\u001b[1;33m+\u001b[0m\u001b[1;33m[\u001b[0m\u001b[1;34m'K'\u001b[0m\u001b[1;33m]\u001b[0m\u001b[1;33m*\u001b[0m\u001b[1;36m4\u001b[0m\u001b[1;33m+\u001b[0m\u001b[1;33m[\u001b[0m\u001b[1;34m'A'\u001b[0m\u001b[1;33m]\u001b[0m\u001b[1;33m*\u001b[0m\u001b[1;36m4\u001b[0m\u001b[1;33m\u001b[0m\u001b[1;33m\u001b[0m\u001b[0m\n\u001b[1;32m----> 4\u001b[1;33m \u001b[0mrandomIndex\u001b[0m \u001b[1;33m=\u001b[0m \u001b[0mrandom\u001b[0m\u001b[1;33m.\u001b[0m\u001b[0mrandint\u001b[0m\u001b[1;33m(\u001b[0m\u001b[1;36m0\u001b[0m\u001b[1;33m,\u001b[0m\u001b[0mlen\u001b[0m\u001b[1;33m(\u001b[0m\u001b[0mDeck\u001b[0m\u001b[1;33m)\u001b[0m\u001b[1;33m-\u001b[0m\u001b[1;36m1\u001b[0m\u001b[1;33m)\u001b[0m\u001b[1;33m\u001b[0m\u001b[1;33m\u001b[0m\u001b[0m\n\u001b[0m\u001b[0;32m      5\u001b[0m \u001b[0mprint\u001b[0m\u001b[1;33m(\u001b[0m\u001b[0mrandomIndex\u001b[0m\u001b[1;33m)\u001b[0m\u001b[1;33m\u001b[0m\u001b[1;33m\u001b[0m\u001b[0m\n\u001b[0;32m      6\u001b[0m \u001b[0mdrawnCard\u001b[0m \u001b[1;33m=\u001b[0m \u001b[0mDeck\u001b[0m\u001b[1;33m.\u001b[0m\u001b[0mpop\u001b[0m\u001b[1;33m(\u001b[0m\u001b[0mrandomIndex\u001b[0m\u001b[1;33m)\u001b[0m\u001b[1;33m\u001b[0m\u001b[1;33m\u001b[0m\u001b[0m\n",
      "\u001b[1;31mNameError\u001b[0m: name 'Deck' is not defined"
     ]
    }
   ],
   "source": [
    "#Pull card method/function\n",
    "\n",
    "fullDeck = ['2']*4+['3']*4+['4']*4+['5']*4+['6']*4+['7']*4+['8']*4+['9']*4+['10']*4+['J']*4+['Q']*4+['K']*4+['A']*4\n",
    "randomIndex = random.randint(0,len(Deck)-1)\n",
    "print(randomIndex)\n",
    "drawnCard = Deck.pop(randomIndex)\n",
    "print(drawnCard)\n",
    "print(Deck)"
   ]
  },
  {
   "cell_type": "code",
   "execution_count": 57,
   "metadata": {},
   "outputs": [
    {
     "name": "stdout",
     "output_type": "stream",
     "text": [
      "0\n",
      "1\n",
      "13\n"
     ]
    }
   ],
   "source": [
    "    Deck = ['2','A','10']\n",
    "    cardValues = {\n",
    "        \"2\" : 2,\n",
    "        \"3\" : 3,\n",
    "        \"4\" : 4,\n",
    "        \"5\" : 5,\n",
    "        \"6\" : 6,\n",
    "        \"7\" : 7,\n",
    "        \"8\" : 8,\n",
    "        \"9\" : 9,\n",
    "        \"10\" : 10,\n",
    "        \"J\" : 10,\n",
    "        \"Q\" : 10,\n",
    "        \"K\" : 10,\n",
    "        \"Q\" : 10\n",
    "         }\n",
    "    \n",
    "    value = 0\n",
    "    aces = 0\n",
    "    print(aces)\n",
    "    for x in Deck:\n",
    "        if x == 'A':\n",
    "            aces = 1 + aces\n",
    "        else:\n",
    "            value = cardValues.get(x) + value\n",
    "    \n",
    "    if aces > 2 or value > 10:\n",
    "        value = value + aces*1\n",
    "    else:\n",
    "        value = value + aces*11\n",
    "        \n",
    "    print(aces)\n",
    "    print(value)"
   ]
  },
  {
   "cell_type": "code",
   "execution_count": 42,
   "metadata": {},
   "outputs": [
    {
     "data": {
      "text/plain": [
       "0"
      ]
     },
     "execution_count": 42,
     "metadata": {},
     "output_type": "execute_result"
    }
   ],
   "source": [
    "x = []\n",
    "len(x)"
   ]
  },
  {
   "cell_type": "code",
   "execution_count": null,
   "metadata": {},
   "outputs": [],
   "source": []
  }
 ],
 "metadata": {
  "kernelspec": {
   "display_name": "Python 3",
   "language": "python",
   "name": "python3"
  },
  "language_info": {
   "codemirror_mode": {
    "name": "ipython",
    "version": 3
   },
   "file_extension": ".py",
   "mimetype": "text/x-python",
   "name": "python",
   "nbconvert_exporter": "python",
   "pygments_lexer": "ipython3",
   "version": "3.7.4"
  }
 },
 "nbformat": 4,
 "nbformat_minor": 2
}
