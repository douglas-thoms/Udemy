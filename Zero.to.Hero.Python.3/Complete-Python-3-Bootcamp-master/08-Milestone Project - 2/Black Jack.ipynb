{
 "cells": [
  {
   "cell_type": "code",
   "execution_count": 1,
   "metadata": {},
   "outputs": [],
   "source": [
    "#making deck object\n",
    "\n",
    "#needed attributes\n",
    "#group of cards - as a dictionary (card type:# of cards) ie. {\"1\":1}\n",
    "#set up a dictionary\n",
    "\n",
    "#methods\n",
    "#number of cards\n",
    "#remove cards\n",
    "#reset deck to 54 cards\n",
    "#randomly take a card\n",
    "\n",
    "\n",
    "#making hand object\n",
    "#attributes\n",
    "#list if cards\n",
    "\n",
    "\n",
    "\n",
    "#methods\n",
    "#reset empty hand\n",
    "#group of cards - as a dictionary (card type:# of cards) ie. {\"1\":1}\n",
    "#add a card\n",
    "# calculate value of hand\n",
    "\n",
    "#function\n",
    "#dealer input\n",
    "#deal self, if below x add card\n",
    "#else stop\n",
    "\n",
    "\n",
    "#function\n",
    "#player input\n",
    "#next step\n",
    "#calculate value\n",
    "#if over 21 lose\n",
    "#choice - add card?\n",
    "#if add card - review value loop\n",
    "#if stop, if player hand > dealer hand, win\n",
    "#reset game"
   ]
  },
  {
   "cell_type": "code",
   "execution_count": 22,
   "metadata": {},
   "outputs": [],
   "source": [
    "import random"
   ]
  },
  {
   "cell_type": "code",
   "execution_count": 5,
   "metadata": {},
   "outputs": [],
   "source": [
    "#create class for cards\n",
    "class hand():\n",
    "    \n",
    "\n",
    "    \n",
    "    def __init__(self,cards):\n",
    "        self.cards = cards\n",
    "    \n",
    "    def removeCard(self):\n",
    "        pass\n",
    "    \n",
    "    def addCard(self):\n",
    "        pass\n",
    "    \n",
    "    def handValue(self):\n",
    "\n",
    "        cardValues = {\n",
    "        \"2\" : 2,\n",
    "        \"3\" : 3,\n",
    "        \"4\" : 4,\n",
    "        \"5\" : 5,\n",
    "        \"6\" : 6,\n",
    "        \"7\" : 7,\n",
    "        \"8\" : 8,\n",
    "        \"9\" : 9,\n",
    "        \"10\" : 10,\n",
    "        \"J\" : 10,\n",
    "        \"Q\" : 10,\n",
    "        \"K\" : 10,\n",
    "        \"Q\" : 10\n",
    "         }\n",
    "        \n",
    "        #need to show hands\n",
    "        print(self.cards)\n",
    "        print(\"calculating hand value\")\n",
    "        handValue = 0\n",
    "        aces = 0\n",
    "        #pull up values\n",
    "\n",
    "        for x in self.cards:\n",
    "            if x == 'A':\n",
    "                aces += 1 \n",
    "                \n",
    "\n",
    "                #value = value + ace value\n",
    "            else:\n",
    "                #use dictionary of card values\n",
    "                handValue += cardValues.get(x)\n",
    "\n",
    "        #return 2-part list with alternative values depending on A value - only one A can be 11 before going bust\n",
    "        #only one A can be 11 and only 11 if less than 21 or less combined\n",
    "        #so A is either 11 + len(aces)-1            \n",
    "\n",
    "        print(aces)\n",
    "        print(handValue)\n",
    "        \n",
    "        if aces == 1:\n",
    "            if handValue + 11 >= 21:\n",
    "                return handValue + 1\n",
    "            else:\n",
    "                return handValue + 11\n",
    "    \n",
    "        elif aces >= 2:\n",
    "            if handValue + 11 + aces-1 >= 21:\n",
    "                return handValue + aces\n",
    "            else:\n",
    "                return handValue + 11 + aces-1\n",
    "        else:\n",
    "            return handValue\n",
    "        \n",
    "    def __str__(self):\n",
    "        value = self.handValue()\n",
    "        return f\"Your hand is {self.cards} and value is {value}\"\n",
    "        #Do I want to add value of hand? how?\n",
    "\n",
    "    def __len__(self):\n",
    "        return self.cards\n",
    "\n",
    "    def __del__(self):\n",
    "        print(\"New Cards\")\n",
    "        \n",
    "        \n",
    "#put these functions outside\n",
    "#deal - input for player - is dealer? they stop at 18\n",
    "#check win"
   ]
  },
  {
   "cell_type": "code",
   "execution_count": 23,
   "metadata": {},
   "outputs": [],
   "source": [
    "#create polyporphism\n",
    "\n",
    "fullDeck = ['2']*4+['3']*4+['4']*4+['5']*4+['6']*4+['7']*4+['8']*4+['9']*4+['10']*4+['J']*4+['Q']*4+['K']*4+['A']*4\n",
    "\n",
    "class dealerDeck(hand):\n",
    "\n",
    "        cards.__init_self(self)"
   ]
  },
  {
   "cell_type": "code",
   "execution_count": 24,
   "metadata": {},
   "outputs": [
    {
     "name": "stdout",
     "output_type": "stream",
     "text": [
      "New Cards\n"
     ]
    },
    {
     "ename": "TypeError",
     "evalue": "__init__() takes 1 positional argument but 2 were given",
     "output_type": "error",
     "traceback": [
      "\u001b[1;31m---------------------------------------------------------------------------\u001b[0m",
      "\u001b[1;31mTypeError\u001b[0m                                 Traceback (most recent call last)",
      "\u001b[1;32m<ipython-input-24-a185aa82758b>\u001b[0m in \u001b[0;36m<module>\u001b[1;34m\u001b[0m\n\u001b[1;32m----> 1\u001b[1;33m \u001b[0mmyhand\u001b[0m \u001b[1;33m=\u001b[0m \u001b[0mdealerDeck\u001b[0m\u001b[1;33m(\u001b[0m\u001b[0mfullDeck\u001b[0m\u001b[1;33m)\u001b[0m\u001b[1;33m\u001b[0m\u001b[1;33m\u001b[0m\u001b[0m\n\u001b[0m\u001b[0;32m      2\u001b[0m \u001b[0mmyhand\u001b[0m\u001b[1;33m\u001b[0m\u001b[1;33m\u001b[0m\u001b[0m\n",
      "\u001b[1;31mTypeError\u001b[0m: __init__() takes 1 positional argument but 2 were given"
     ]
    }
   ],
   "source": [
    "myhand = dealerDeck(fullDeck)\n",
    "myhand"
   ]
  },
  {
   "cell_type": "code",
   "execution_count": 14,
   "metadata": {},
   "outputs": [
    {
     "name": "stdout",
     "output_type": "stream",
     "text": [
      "['2', '5', 'A']\n",
      "calculating hand value\n",
      "1\n",
      "7\n"
     ]
    },
    {
     "data": {
      "text/plain": [
       "18"
      ]
     },
     "execution_count": 14,
     "metadata": {},
     "output_type": "execute_result"
    }
   ],
   "source": [
    "myhand.handValue()"
   ]
  },
  {
   "cell_type": "code",
   "execution_count": 29,
   "metadata": {},
   "outputs": [
    {
     "name": "stdout",
     "output_type": "stream",
     "text": [
      "['2', '5', 'A', 'A', 'A']\n",
      "calculating hand value\n",
      "3\n",
      "7\n"
     ]
    },
    {
     "data": {
      "text/plain": [
       "\"Your hand is ['2', '5', 'A', 'A', 'A'] and value is 10\""
      ]
     },
     "execution_count": 29,
     "metadata": {},
     "output_type": "execute_result"
    }
   ],
   "source": [
    "str(myhand)"
   ]
  },
  {
   "cell_type": "code",
   "execution_count": 39,
   "metadata": {},
   "outputs": [
    {
     "name": "stdout",
     "output_type": "stream",
     "text": [
      "11\n",
      "4\n",
      "['2', '2', '2', '2', '3', '3', '3', '3', '4', '4', '4', '5', '5', '5', '5', '6', '6', '6', '6', '7', '7', '7', '7', '8', '8', '8', '8', '9', '9', '9', '9', '10', '10', '10', '10', 'J', 'J', 'J', 'J', 'Q', 'Q', 'Q', 'Q', 'K', 'K', 'K', 'K', 'A', 'A', 'A', 'A']\n"
     ]
    }
   ],
   "source": [
    "#Pull card method/function\n",
    "\n",
    "fullDeck = ['2']*4+['3']*4+['4']*4+['5']*4+['6']*4+['7']*4+['8']*4+['9']*4+['10']*4+['J']*4+['Q']*4+['K']*4+['A']*4\n",
    "randomIndex = random.randint(0,len(Deck)-1)\n",
    "print(randomIndex)\n",
    "drawnCard = Deck.pop(randomIndex)\n",
    "print(drawnCard)\n",
    "print(Deck)"
   ]
  },
  {
   "cell_type": "code",
   "execution_count": 57,
   "metadata": {},
   "outputs": [
    {
     "name": "stdout",
     "output_type": "stream",
     "text": [
      "0\n",
      "1\n",
      "13\n"
     ]
    }
   ],
   "source": [
    "    Deck = ['2','A','10']\n",
    "    cardValues = {\n",
    "        \"2\" : 2,\n",
    "        \"3\" : 3,\n",
    "        \"4\" : 4,\n",
    "        \"5\" : 5,\n",
    "        \"6\" : 6,\n",
    "        \"7\" : 7,\n",
    "        \"8\" : 8,\n",
    "        \"9\" : 9,\n",
    "        \"10\" : 10,\n",
    "        \"J\" : 10,\n",
    "        \"Q\" : 10,\n",
    "        \"K\" : 10,\n",
    "        \"Q\" : 10\n",
    "         }\n",
    "    \n",
    "    value = 0\n",
    "    aces = 0\n",
    "    print(aces)\n",
    "    for x in Deck:\n",
    "        if x == 'A':\n",
    "            aces = 1 + aces\n",
    "        else:\n",
    "            value = cardValues.get(x) + value\n",
    "    \n",
    "    if aces > 2 or value > 10:\n",
    "        value = value + aces*1\n",
    "    else:\n",
    "        value = value + aces*11\n",
    "        \n",
    "    print(aces)\n",
    "    print(value)"
   ]
  },
  {
   "cell_type": "code",
   "execution_count": 42,
   "metadata": {},
   "outputs": [
    {
     "data": {
      "text/plain": [
       "0"
      ]
     },
     "execution_count": 42,
     "metadata": {},
     "output_type": "execute_result"
    }
   ],
   "source": [
    "x = []\n",
    "len(x)"
   ]
  },
  {
   "cell_type": "code",
   "execution_count": null,
   "metadata": {},
   "outputs": [],
   "source": []
  }
 ],
 "metadata": {
  "kernelspec": {
   "display_name": "Python 3",
   "language": "python",
   "name": "python3"
  },
  "language_info": {
   "codemirror_mode": {
    "name": "ipython",
    "version": 3
   },
   "file_extension": ".py",
   "mimetype": "text/x-python",
   "name": "python",
   "nbconvert_exporter": "python",
   "pygments_lexer": "ipython3",
   "version": "3.7.4"
  }
 },
 "nbformat": 4,
 "nbformat_minor": 2
}
