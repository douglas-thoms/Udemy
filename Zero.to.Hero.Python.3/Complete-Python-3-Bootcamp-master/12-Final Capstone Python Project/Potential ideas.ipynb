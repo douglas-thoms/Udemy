{
 "cells": [
  {
   "cell_type": "markdown",
   "metadata": {},
   "source": [
    "Web Board (Forum) - Create a forum for you and your buddies to post, administer and share thoughts and ideas.\n",
    "\n",
    "1st phase\n",
    "Daycare scheduler - functions - \n",
    "*can enter new client\n",
    "*remove an old client\n",
    "*enter the times scheduled for kids\n",
    "\n",
    "*enter date kids scheduled, visit and leave\n",
    "\n",
    "graphic of schedule\n",
    "*show graphic of schedule one day to a month\n",
    "*remove inactive clients\n",
    "\n",
    "\n",
    "Phase 2\n",
    "summary statistics/analytics\n",
    "*count how many times each kids visited\n",
    "*how many hours\n"
   ]
  },
  {
   "cell_type": "code",
   "execution_count": null,
   "metadata": {},
   "outputs": [],
   "source": []
  },
  {
   "cell_type": "code",
   "execution_count": 1,
   "metadata": {},
   "outputs": [],
   "source": [
    "import timeboard as tb"
   ]
  },
  {
   "cell_type": "code",
   "execution_count": 5,
   "metadata": {},
   "outputs": [
    {
     "name": "stdout",
     "output_type": "stream",
     "text": [
      "Timeboard of 'D': 2017-10-01 -> 2017-10-10\n",
      "\n",
      "        ws_ref      start  duration                           end  \\\n",
      "loc                                                                 \n",
      "0   2017-10-01 2017-10-01         1 2017-10-01 23:59:59.999999999   \n",
      "1   2017-10-02 2017-10-02         1 2017-10-02 23:59:59.999999999   \n",
      "2   2017-10-03 2017-10-03         1 2017-10-03 23:59:59.999999999   \n",
      "3   2017-10-04 2017-10-04         1 2017-10-04 23:59:59.999999999   \n",
      "4   2017-10-05 2017-10-05         1 2017-10-05 23:59:59.999999999   \n",
      "5   2017-10-06 2017-10-06         1 2017-10-06 23:59:59.999999999   \n",
      "6   2017-10-07 2017-10-07         1 2017-10-07 23:59:59.999999999   \n",
      "7   2017-10-08 2017-10-08         1 2017-10-08 23:59:59.999999999   \n",
      "8   2017-10-09 2017-10-09         1 2017-10-09 23:59:59.999999999   \n",
      "9   2017-10-10 2017-10-10         1 2017-10-10 23:59:59.999999999   \n",
      "\n",
      "            label  on_duty  \n",
      "loc                         \n",
      "0    [Fred, Jane]     True  \n",
      "1           Empty     True  \n",
      "2             Ada     True  \n",
      "3    [Fred, Jane]     True  \n",
      "4           Empty     True  \n",
      "5             Ada     True  \n",
      "6    [Fred, Jane]     True  \n",
      "7           Empty     True  \n",
      "8             Ada     True  \n",
      "9    [Fred, Jane]     True  \n",
      "Timeboard of 'D': 2017-10-01 -> 2017-10-10\n",
      "\n",
      "        ws_ref      start  duration                           end  label  \\\n",
      "loc                                                                        \n",
      "0   2017-10-01 2017-10-01         1 2017-10-01 23:59:59.999999999      1   \n",
      "1   2017-10-02 2017-10-02         1 2017-10-02 23:59:59.999999999      1   \n",
      "2   2017-10-03 2017-10-03         1 2017-10-03 23:59:59.999999999      1   \n",
      "3   2017-10-04 2017-10-04         1 2017-10-04 23:59:59.999999999      1   \n",
      "4   2017-10-05 2017-10-05         1 2017-10-05 23:59:59.999999999      1   \n",
      "5   2017-10-06 2017-10-06         1 2017-10-06 23:59:59.999999999      1   \n",
      "6   2017-10-07 2017-10-07         1 2017-10-07 23:59:59.999999999      1   \n",
      "7   2017-10-08 2017-10-08         1 2017-10-08 23:59:59.999999999      1   \n",
      "8   2017-10-09 2017-10-09         1 2017-10-09 23:59:59.999999999      1   \n",
      "9   2017-10-10 2017-10-10         1 2017-10-10 23:59:59.999999999      1   \n",
      "\n",
      "     on_duty  \n",
      "loc           \n",
      "0       True  \n",
      "1       True  \n",
      "2       True  \n",
      "3       True  \n",
      "4       True  \n",
      "5       True  \n",
      "6       True  \n",
      "7       True  \n",
      "8       True  \n",
      "9       True  \n"
     ]
    }
   ],
   "source": [
    "#construct timeboard each time\n",
    "#https://timeboard.readthedocs.io/en/latest/making_a_timeboard.html\n",
    "#https://www.freecodecamp.org/news/introducing-timeboard-a-python-business-calendar-package-a2335898c697/\n",
    "clnd = tb.Timeboard(base_unit_freq='D',start='01 Oct 2017', end='10 Oct 2017',layout=[['Fred','Jane'], 'Empty', 'Ada'])\n",
    "clnd2 = tb.Timeboard(base_unit_freq='D',start='01 Oct 2017', end='10 Oct 2017',layout=[1,1,1])\n",
    "\n",
    "print(clnd)\n",
    "print(clnd2)"
   ]
  },
  {
   "cell_type": "code",
   "execution_count": 3,
   "metadata": {},
   "outputs": [
    {
     "name": "stderr",
     "output_type": "stream",
     "text": [
      "C:\\Users\\dthoms\\AppData\\Local\\Continuum\\anaconda3\\lib\\site-packages\\timeboard\\calendars\\calendarbase.py:51: FutureWarning: Creating a PeriodIndex by passing range endpoints is deprecated.  Use `pandas.period_range` instead.\n",
      "  end=datetime.date(year, 12, 31), freq='M')\n",
      "C:\\Users\\dthoms\\AppData\\Local\\Continuum\\anaconda3\\lib\\site-packages\\timeboard\\calendars\\calendarbase.py:68: FutureWarning: Creating a PeriodIndex by passing range endpoints is deprecated.  Use `pandas.period_range` instead.\n",
      "  freq=weekday_freq[weekday])\n",
      "C:\\Users\\dthoms\\AppData\\Local\\Continuum\\anaconda3\\lib\\site-packages\\timeboard\\core.py:499: FutureWarning: Creating a PeriodIndex by passing range endpoints is deprecated.  Use `pandas.period_range` instead.\n",
      "  end=span_start_ts)\n",
      "C:\\Users\\dthoms\\AppData\\Local\\Continuum\\anaconda3\\lib\\site-packages\\timeboard\\core.py:510: FutureWarning: Creating a PeriodIndex by passing range endpoints is deprecated.  Use `pandas.period_range` instead.\n",
      "  end=right_stencil_bound)\n"
     ]
    },
    {
     "name": "stdout",
     "output_type": "stream",
     "text": [
      "Timeboard of 'D': 2000-01-01 -> 2020-12-31\n",
      "\n",
      "         ws_ref      start  duration                           end  label  \\\n",
      "loc                                                                         \n",
      "0    2000-01-01 2000-01-01         1 2000-01-01 23:59:59.999999999      0   \n",
      "1    2000-01-02 2000-01-02         1 2000-01-02 23:59:59.999999999      0   \n",
      "2    2000-01-03 2000-01-03         1 2000-01-03 23:59:59.999999999      8   \n",
      "3    2000-01-04 2000-01-04         1 2000-01-04 23:59:59.999999999      8   \n",
      "4    2000-01-05 2000-01-05         1 2000-01-05 23:59:59.999999999      8   \n",
      "...         ...        ...       ...                           ...    ...   \n",
      "7666 2020-12-27 2020-12-27         1 2020-12-27 23:59:59.999999999      0   \n",
      "7667 2020-12-28 2020-12-28         1 2020-12-28 23:59:59.999999999      8   \n",
      "7668 2020-12-29 2020-12-29         1 2020-12-29 23:59:59.999999999      8   \n",
      "7669 2020-12-30 2020-12-30         1 2020-12-30 23:59:59.999999999      8   \n",
      "7670 2020-12-31 2020-12-31         1 2020-12-31 23:59:59.999999999      8   \n",
      "\n",
      "      on_duty  \n",
      "loc            \n",
      "0       False  \n",
      "1       False  \n",
      "2        True  \n",
      "3        True  \n",
      "4        True  \n",
      "...       ...  \n",
      "7666    False  \n",
      "7667     True  \n",
      "7668     True  \n",
      "7669     True  \n",
      "7670     True  \n",
      "\n",
      "[7671 rows x 6 columns]\n"
     ]
    },
    {
     "data": {
      "text/plain": [
       "22"
      ]
     },
     "execution_count": 3,
     "metadata": {},
     "output_type": "execute_result"
    }
   ],
   "source": [
    "#create a schedule based on US\n",
    "import timeboard.calendars.US as US\n",
    "clnd = US.Weekly8x5()\n",
    "\n",
    "print(clnd)\n",
    "\n",
    "may2017 = clnd('May 2017', period='M')\n",
    "\n",
    "may2017.count()"
   ]
  },
  {
   "cell_type": "code",
   "execution_count": null,
   "metadata": {},
   "outputs": [],
   "source": [
    "#client is full time - create schedule for 2020\n",
    "KennySmith = tb.Timeboard(base_unit_freq='D',start='01 Jan 2020', end='31 Dec 2020', layout=[1, 1, 1, 0, 0, 1, 1])\n",
    "print(KennySmith)\n",
    "oct2020= KennySmith('Oct 2020', period='M')\n",
    "x = oct2020.worktime()\n",
    "print(x)\n",
    "\n",
    "KennySmith = tb.Timeboard(base_unit_freq='D', start='01 Jan 2020', end='31 Dec 2020', layout=[1, 1, 1, 0, 0, 1, 1], \n",
    "             amendments={'03 Jan 2020': 0,                            \n",
    "                         '27 Dec 2020': 1})\n",
    "print(KennySmith)\n",
    "oct2020= KennySmith('Oct 2020', period='M')\n",
    "x = oct2020.worktime()\n",
    "\n",
    "ws = tb.Workshift(KennySmith)\n",
    "ws.label"
   ]
  },
  {
   "cell_type": "code",
   "execution_count": null,
   "metadata": {},
   "outputs": [],
   "source": [
    "#create objects\n",
    "#family object\n",
    "#attribute -  family members and general contact info\n",
    "\n",
    "#method add client, remove client - simply erase object\n",
    "#method add contact info\n",
    "\n",
    "\n",
    "#parent object\n",
    "#attribute - take from above attribute, name, personal contact info, relation to kid\n",
    "\n",
    "#child object - subclass of client\n",
    "#attribute -  name, age, gender\n",
    "\n",
    "\n",
    "#schedule of future visits objects\n",
    "#attribute - child schedule\n",
    "#attribute - continual days, one-off days\n",
    "#attribute - future schedule\n",
    "#attribute - past schedule\n",
    "#method update future schedule - add continual days, add one-off days\n",
    "#method update past schedule grabs data from future visits\n",
    "#method display time board"
   ]
  },
  {
   "cell_type": "code",
   "execution_count": null,
   "metadata": {},
   "outputs": [],
   "source": [
    "#objects of client\n",
    "class client():\n",
    "    \n",
    "    def __init__(self,familyGroup,housePhone):\n",
    "        #attribute -  family members and general contact info\n",
    "        self.familyGroup = familyGroup\n",
    "        self.housePhone = housePhone\n",
    "        print(f\"{self.familyGroup} has been created with contact of {self.housePhone}\")\n",
    "\n",
    "#this class is a guardian\n",
    "class guardian(client):\n",
    "    \n",
    "    def __init__(self,familyGroup,housePhone,firstName,lastName,cellPhone):\n",
    "        super().__init__(familyGroup,housePhone)\n",
    "        self.firstName = firstName\n",
    "        self.lastName = lastName\n",
    "        self.cellPhone = cellPhone\n",
    "           \n",
    "        print(f\"{self.firstName}, {self.lastName} in the {familyGroup} household and has the cell phone {self.cellPhone}\")\n",
    "        \n",
    "#this class is a guardian\n",
    "class child(client):\n",
    "    \n",
    "    def __init__(self,familyGroup,housePhone,firstName,lastName,age):\n",
    "        super().__init__(familyGroup,housePhone)\n",
    "        self.firstName = firstName\n",
    "        self.lastName = lastName\n",
    "        self.age = age\n",
    "           \n",
    "        print(f\"{self.firstName}, {self.lastName} in the {familyGroup} household and is {self.age}\")\n",
    "        \n",
    "#attribute - child schedule\n",
    "#attribute - continual days, one-off days\n",
    "#attribute - future schedule\n",
    "#attribute - past schedule\n",
    "#method update future schedule - add continual days, add one-off days\n",
    "#method update past schedule grabs data from future visits\n",
    "#method display time board\n",
    "        \n",
    "class schedule():\n",
    "    def __init__(self,continualdays, startingDay):\n",
    "        pass\n",
    "        \n",
    "#method add client, remove client - simply erase object\n",
    "#method add contact info"
   ]
  },
  {
   "cell_type": "code",
   "execution_count": null,
   "metadata": {},
   "outputs": [],
   "source": [
    "smith = client(\"Smith\",\"416-482-1279\")\n"
   ]
  },
  {
   "cell_type": "code",
   "execution_count": null,
   "metadata": {},
   "outputs": [],
   "source": [
    "Daryl = guardian(\"Smith\",\"416-482-1279\",\"Smith\",\"Daryl\",\"444-6767\")\n"
   ]
  },
  {
   "cell_type": "code",
   "execution_count": null,
   "metadata": {},
   "outputs": [],
   "source": [
    "Marlo = child(\"Smith\",\"416-482-1279\",\"Smith\",\"Marlo\", 3)"
   ]
  },
  {
   "cell_type": "code",
   "execution_count": 3,
   "metadata": {},
   "outputs": [],
   "source": [
    "#methods\n",
    "\n",
    "def entry(type):\n",
    "    while True:\n",
    "        try:\n",
    "            entry = type(input(\"Enter value: \"))\n",
    "        except ValueError:\n",
    "            print(\"Please enter proper format\")\n",
    "            continue\n",
    "        else: \n",
    "            print(\"\\n\")\n",
    "            break\n",
    "        \n",
    "    return entry"
   ]
  },
  {
   "cell_type": "code",
   "execution_count": 5,
   "metadata": {},
   "outputs": [
    {
     "name": "stdout",
     "output_type": "stream",
     "text": [
      "Welcome to Daycare scheduler \n",
      "          \n",
      "          What action would you like to take? \n",
      "          1 - enter the client \n",
      "          2 - add guardian \n",
      "          3 - add child \n",
      "          4 - remove the client \n",
      "          5 - remove guardian \n",
      "          6 - remove child and schedule \n",
      "          7 - create schedule \n",
      "          8 - modify schedule \n",
      "          9 - list schedule for all \n",
      "          10 - close program\n"
     ]
    },
    {
     "name": "stdin",
     "output_type": "stream",
     "text": [
      "Enter value:  10\n"
     ]
    },
    {
     "name": "stdout",
     "output_type": "stream",
     "text": [
      "\n",
      "\n",
      "Program closed\n"
     ]
    }
   ],
   "source": [
    "# start session\n",
    "\n",
    "#create while loop to continue running program\n",
    "runningProgram = True\n",
    "while runningProgram:\n",
    "    \n",
    "    print(\"Welcome to Daycare scheduler \\n\\\n",
    "          \\n\\\n",
    "          What action would you like to take? \\n\\\n",
    "          1 - enter the client \\n\\\n",
    "          2 - add guardian \\n\\\n",
    "          3 - add child \\n\\\n",
    "          4 - remove the client \\n\\\n",
    "          5 - remove guardian \\n\\\n",
    "          6 - remove child and schedule \\n\\\n",
    "          7 - create schedule \\n\\\n",
    "          8 - modify schedule \\n\\\n",
    "          9 - list schedule for all \\n\\\n",
    "          10 - close program\")\n",
    "    \n",
    "    option = entry(int)\n",
    "    \n",
    "    if option == 1:\n",
    "        print(\"Add Client\\n\")\n",
    "        print(\"Add Client Name\\n\")\n",
    "        name = entry(str)\n",
    "        print(\"Add Client Name\\n\")\n",
    "        phoneNumber = entry(str)\n",
    "        #how to assign this variable name automatically\n",
    "        exec(name + \"\")\n",
    "        smith = client(name, phoneNumber)\n",
    "        \n",
    "        \n",
    "    elif option == 10:\n",
    "        runningProgram = False\n",
    "    \n",
    "print (\"Program closed\")\n",
    "\n",
    "#foo = \"bar\"\n",
    "#exec(foo + \" = 'something else'\")\n",
    "#print bar\n",
    "#something else"
   ]
  },
  {
   "cell_type": "code",
   "execution_count": null,
   "metadata": {},
   "outputs": [],
   "source": []
  }
 ],
 "metadata": {
  "kernelspec": {
   "display_name": "Python 3",
   "language": "python",
   "name": "python3"
  },
  "language_info": {
   "codemirror_mode": {
    "name": "ipython",
    "version": 3
   },
   "file_extension": ".py",
   "mimetype": "text/x-python",
   "name": "python",
   "nbconvert_exporter": "python",
   "pygments_lexer": "ipython3",
   "version": "3.7.4"
  }
 },
 "nbformat": 4,
 "nbformat_minor": 4
}
