{
 "cells": [
  {
   "cell_type": "markdown",
   "metadata": {},
   "source": [
    "Web Board (Forum) - Create a forum for you and your buddies to post, administer and share thoughts and ideas.\n",
    "\n",
    "Daycare scheduler - functions - \n",
    "*can enter new client\n",
    "*remove an old client\n",
    "\n",
    "*enter date kids scheduled, visit and leave\n",
    "\n",
    "graphic of schedule\n",
    "*show graphic of schedule one day to a month\n",
    "*remove inactive clients\n",
    "\n",
    "summary statistics\n",
    "*count how many times each kids visited\n",
    "*how many hours\n"
   ]
  }
 ],
 "metadata": {
  "kernelspec": {
   "display_name": "Python 3",
   "language": "python",
   "name": "python3"
  },
  "language_info": {
   "codemirror_mode": {
    "name": "ipython",
    "version": 3
   },
   "file_extension": ".py",
   "mimetype": "text/x-python",
   "name": "python",
   "nbconvert_exporter": "python",
   "pygments_lexer": "ipython3",
   "version": "3.7.4"
  }
 },
 "nbformat": 4,
 "nbformat_minor": 2
}
