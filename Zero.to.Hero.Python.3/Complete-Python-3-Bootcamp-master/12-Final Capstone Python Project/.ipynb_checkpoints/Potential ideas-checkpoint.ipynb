{
 "cells": [
  {
   "cell_type": "markdown",
   "metadata": {},
   "source": [
    "Web Board (Forum) - Create a forum for you and your buddies to post, administer and share thoughts and ideas.\n",
    "\n",
    "1st phase\n",
    "Daycare scheduler - functions - \n",
    "*can enter new client\n",
    "*remove an old client\n",
    "*enter the times scheduled for kids\n",
    "\n",
    "*enter date kids scheduled, visit and leave\n",
    "\n",
    "graphic of schedule\n",
    "*show graphic of schedule one day to a month\n",
    "*remove inactive clients\n",
    "\n",
    "\n",
    "Phase 2\n",
    "summary statistics/analytics\n",
    "*count how many times each kids visited\n",
    "*how many hours\n"
   ]
  },
  {
   "cell_type": "code",
   "execution_count": null,
   "metadata": {},
   "outputs": [],
   "source": []
  },
  {
   "cell_type": "code",
   "execution_count": null,
   "metadata": {},
   "outputs": [],
   "source": [
    "import timeboard as tb"
   ]
  },
  {
   "cell_type": "code",
   "execution_count": null,
   "metadata": {},
   "outputs": [],
   "source": [
    "#https://timeboard.readthedocs.io/en/latest/making_a_timeboard.html\n",
    "#https://www.freecodecamp.org/news/introducing-timeboard-a-python-business-calendar-package-a2335898c697/\n",
    "clnd = tb.Timeboard(base_unit_freq='D',start='01 Oct 2017', end='10 Oct 2017',layout=[1, 0, 0])\n",
    "clnd2 = tb.Timeboard(base_unit_freq='D',start='01 Oct 2017', end='10 Oct 2017',layout=[1,1,1])\n",
    "\n",
    "print(clnd)\n",
    "print(clnd2)"
   ]
  },
  {
   "cell_type": "code",
   "execution_count": null,
   "metadata": {},
   "outputs": [],
   "source": [
    "#create a schedule based on US\n",
    "import timeboard.calendars.US as US\n",
    "clnd = US.Weekly8x5()\n",
    "\n",
    "print(clnd)\n",
    "\n",
    "may2017 = clnd('May 2017', period='M')\n",
    "\n",
    "may2017.count()"
   ]
  },
  {
   "cell_type": "code",
   "execution_count": null,
   "metadata": {},
   "outputs": [],
   "source": [
    "#client is full time - create schedule for 2020\n",
    "KennySmith = tb.Timeboard(base_unit_freq='D',start='01 Jan 2020', end='31 Dec 2020', layout=[1, 1, 1, 0, 0, 1, 1])\n",
    "print(KennySmith)\n",
    "oct2020= KennySmith('Oct 2020', period='M')\n",
    "x = oct2020.worktime()\n",
    "print(x)\n",
    "\n",
    "KennySmith = tb.Timeboard(base_unit_freq='D', start='01 Jan 2020', end='31 Dec 2020', layout=[1, 1, 1, 0, 0, 1, 1], \n",
    "             amendments={'03 Jan 2020': 0,                            \n",
    "                         '27 Dec 2020': 1})\n",
    "print(KennySmith)\n",
    "oct2020= KennySmith('Oct 2020', period='M')\n",
    "x = oct2020.worktime()\n",
    "\n",
    "ws = tb.Workshift(KennySmith)\n",
    "ws.label"
   ]
  },
  {
   "cell_type": "code",
   "execution_count": null,
   "metadata": {},
   "outputs": [],
   "source": [
    "#create objects\n",
    "#family object\n",
    "#attribute -  family members and general contact info\n",
    "\n",
    "#method add client, remove client - simply erase object\n",
    "#method add contact info\n",
    "\n",
    "\n",
    "#parent object\n",
    "#attribute - take from above attribute, name, personal contact info, relation to kid\n",
    "\n",
    "#child object - subclass of client\n",
    "#attribute -  name, age, gender\n",
    "\n",
    "\n",
    "#schedule of future visits objects\n",
    "#attribute - child schedule\n",
    "#attribute - continual days, one-off days\n",
    "#attribute - future schedule\n",
    "#attribute - past schedule\n",
    "#method update future schedule - add continual days, add one-off days\n",
    "#method update past schedule grabs data from future visits\n",
    "#method display time board"
   ]
  },
  {
   "cell_type": "code",
   "execution_count": null,
   "metadata": {},
   "outputs": [],
   "source": [
    "#objects of client\n",
    "class client():\n",
    "    \n",
    "    def __init__(self,familyGroup,housePhone):\n",
    "        #attribute -  family members and general contact info\n",
    "        self.familyGroup = familyGroup\n",
    "        self.housePhone = housePhone\n",
    "        print(f\"{self.familyGroup} has been created with contact of {self.housePhone}\")\n",
    "\n",
    "#this class is a guardian\n",
    "class guardian(client):\n",
    "    \n",
    "    def __init__(self,familyGroup,housePhone,firstName,lastName,cellPhone):\n",
    "        super().__init__(familyGroup,housePhone)\n",
    "        self.firstName = firstName\n",
    "        self.lastName = lastName\n",
    "        self.cellPhone = cellPhone\n",
    "           \n",
    "        print(f\"{self.firstName}, {self.lastName} in the {familyGroup} household and has the cell phone {self.cellPhone}\")\n",
    "        \n",
    "#this class is a guardian\n",
    "class child(client):\n",
    "    \n",
    "    def __init__(self,familyGroup,housePhone,firstName,lastName,age):\n",
    "        super().__init__(familyGroup,housePhone)\n",
    "        self.firstName = firstName\n",
    "        self.lastName = lastName\n",
    "        self.age = age\n",
    "           \n",
    "        print(f\"{self.firstName}, {self.lastName} in the {familyGroup} household and is {self.age}\")\n",
    "        \n",
    "#attribute - child schedule\n",
    "#attribute - continual days, one-off days\n",
    "#attribute - future schedule\n",
    "#attribute - past schedule\n",
    "#method update future schedule - add continual days, add one-off days\n",
    "#method update past schedule grabs data from future visits\n",
    "#method display time board\n",
    "        \n",
    "class schedule():\n",
    "    def __init__(self,continualdays, startingDay):\n",
    "        pass\n",
    "        \n",
    "#method add client, remove client - simply erase object\n",
    "#method add contact info"
   ]
  },
  {
   "cell_type": "code",
   "execution_count": null,
   "metadata": {},
   "outputs": [],
   "source": [
    "smith = client(\"Smith\",\"416-482-1279\")\n"
   ]
  },
  {
   "cell_type": "code",
   "execution_count": null,
   "metadata": {},
   "outputs": [],
   "source": [
    "Daryl = guardian(\"Smith\",\"416-482-1279\",\"Smith\",\"Daryl\",\"444-6767\")\n"
   ]
  },
  {
   "cell_type": "code",
   "execution_count": null,
   "metadata": {},
   "outputs": [],
   "source": [
    "Marlo = child(\"Smith\",\"416-482-1279\",\"Smith\",\"Marlo\", 3)"
   ]
  },
  {
   "cell_type": "code",
   "execution_count": 3,
   "metadata": {},
   "outputs": [],
   "source": [
    "#methods\n",
    "\n",
    "def entry(type):\n",
    "    while True:\n",
    "        try:\n",
    "            entry = type(input(\"Enter value: \"))\n",
    "        except ValueError:\n",
    "            print(\"Please enter proper format\")\n",
    "            continue\n",
    "        else: \n",
    "            print(\"\\n\")\n",
    "            break\n",
    "        \n",
    "    return entry"
   ]
  },
  {
   "cell_type": "code",
   "execution_count": 5,
   "metadata": {},
   "outputs": [
    {
     "name": "stdout",
     "output_type": "stream",
     "text": [
      "Welcome to Daycare scheduler \n",
      "          \n",
      "          What action would you like to take? \n",
      "          1 - enter the client \n",
      "          2 - add guardian \n",
      "          3 - add child \n",
      "          4 - remove the client \n",
      "          5 - remove guardian \n",
      "          6 - remove child and schedule \n",
      "          7 - create schedule \n",
      "          8 - modify schedule \n",
      "          9 - list schedule for all \n",
      "          10 - close program\n"
     ]
    },
    {
     "name": "stdin",
     "output_type": "stream",
     "text": [
      "Enter value:  10\n"
     ]
    },
    {
     "name": "stdout",
     "output_type": "stream",
     "text": [
      "\n",
      "\n",
      "Program closed\n"
     ]
    }
   ],
   "source": [
    "# start session\n",
    "\n",
    "#create while loop to continue running program\n",
    "runningProgram = True\n",
    "while runningProgram:\n",
    "    \n",
    "    print(\"Welcome to Daycare scheduler \\n\\\n",
    "          \\n\\\n",
    "          What action would you like to take? \\n\\\n",
    "          1 - enter the client \\n\\\n",
    "          2 - add guardian \\n\\\n",
    "          3 - add child \\n\\\n",
    "          4 - remove the client \\n\\\n",
    "          5 - remove guardian \\n\\\n",
    "          6 - remove child and schedule \\n\\\n",
    "          7 - create schedule \\n\\\n",
    "          8 - modify schedule \\n\\\n",
    "          9 - list schedule for all \\n\\\n",
    "          10 - close program\")\n",
    "    \n",
    "    option = entry(int)\n",
    "    \n",
    "    if option == 1:\n",
    "        print(\"Add Client\\n\")\n",
    "        print(\"Add Client Name\\n\")\n",
    "        name = entry(str)\n",
    "        print(\"Add Client Name\\n\")\n",
    "        phoneNumber = entry(str)\n",
    "        #how to assign this variable name automatically\n",
    "        smith = client(name, phoneNumber)\n",
    "        \n",
    "        \n",
    "    elif option == 10:\n",
    "        runningProgram = False\n",
    "    \n",
    "print (\"Program closed\")\n"
   ]
  },
  {
   "cell_type": "code",
   "execution_count": null,
   "metadata": {},
   "outputs": [],
   "source": []
  }
 ],
 "metadata": {
  "kernelspec": {
   "display_name": "Python 3",
   "language": "python",
   "name": "python3"
  },
  "language_info": {
   "codemirror_mode": {
    "name": "ipython",
    "version": 3
   },
   "file_extension": ".py",
   "mimetype": "text/x-python",
   "name": "python",
   "nbconvert_exporter": "python",
   "pygments_lexer": "ipython3",
   "version": "3.7.4"
  }
 },
 "nbformat": 4,
 "nbformat_minor": 4
}
