{
 "cells": [
  {
   "cell_type": "markdown",
   "metadata": {},
   "source": [
    "<a href=\"https://www.pieriandata.com\"><img src=\"../Pierian_Data_Logo.PNG\"></a>\n",
    "<strong><center>Copyright by Pierian Data Inc.</center></strong> \n",
    "<strong><center>Created by Jose Marcial Portilla.</center></strong>"
   ]
  },
  {
   "cell_type": "markdown",
   "metadata": {},
   "source": [
    "# Tensorboard\n",
    "\n",
    "---\n",
    "---\n",
    "\n",
    "**NOTE: You must watch the corresponding video to understand this lecture. This notebook can't serve as a full guide. Please watch the video BEFORE posting questions to the QA forum.**\n",
    "\n",
    "---\n",
    "---\n",
    "\n",
    "Let's explore the built in data visualization capabilities that come with Tensorboard.\n",
    "\n",
    "Full official tutorial available here: https://www.tensorflow.org/tensorboard/get_started\n",
    "\n",
    "## Data"
   ]
  },
  {
   "cell_type": "code",
   "execution_count": 1,
   "metadata": {},
   "outputs": [],
   "source": [
    "import pandas as pd\n",
    "import numpy as np"
   ]
  },
  {
   "cell_type": "code",
   "execution_count": 4,
   "metadata": {},
   "outputs": [],
   "source": [
    "df = pd.read_csv('DATA/cancer_classification.csv')"
   ]
  },
  {
   "cell_type": "markdown",
   "metadata": {},
   "source": [
    "### Train Test Split"
   ]
  },
  {
   "cell_type": "code",
   "execution_count": 5,
   "metadata": {},
   "outputs": [],
   "source": [
    "X = df.drop('benign_0__mal_1',axis=1).values\n",
    "y = df['benign_0__mal_1'].values"
   ]
  },
  {
   "cell_type": "code",
   "execution_count": 6,
   "metadata": {},
   "outputs": [],
   "source": [
    "from sklearn.model_selection import train_test_split"
   ]
  },
  {
   "cell_type": "code",
   "execution_count": 7,
   "metadata": {},
   "outputs": [],
   "source": [
    "X_train, X_test, y_train, y_test = train_test_split(X,y,test_size=0.25,random_state=101)"
   ]
  },
  {
   "cell_type": "markdown",
   "metadata": {},
   "source": [
    "\n",
    "### Scaling Data"
   ]
  },
  {
   "cell_type": "code",
   "execution_count": 8,
   "metadata": {},
   "outputs": [],
   "source": [
    "from sklearn.preprocessing import MinMaxScaler"
   ]
  },
  {
   "cell_type": "code",
   "execution_count": 9,
   "metadata": {},
   "outputs": [],
   "source": [
    "scaler = MinMaxScaler()"
   ]
  },
  {
   "cell_type": "code",
   "execution_count": 10,
   "metadata": {},
   "outputs": [
    {
     "data": {
      "text/plain": [
       "MinMaxScaler(copy=True, feature_range=(0, 1))"
      ]
     },
     "execution_count": 10,
     "metadata": {},
     "output_type": "execute_result"
    }
   ],
   "source": [
    "scaler.fit(X_train)"
   ]
  },
  {
   "cell_type": "code",
   "execution_count": 11,
   "metadata": {},
   "outputs": [],
   "source": [
    "X_train = scaler.transform(X_train)\n",
    "X_test = scaler.transform(X_test)"
   ]
  },
  {
   "cell_type": "markdown",
   "metadata": {},
   "source": [
    "## Creating the Model"
   ]
  },
  {
   "cell_type": "code",
   "execution_count": 12,
   "metadata": {},
   "outputs": [],
   "source": [
    "import tensorflow as tf\n",
    "from tensorflow.keras.models import Sequential\n",
    "from tensorflow.keras.layers import Dense, Activation,Dropout"
   ]
  },
  {
   "cell_type": "code",
   "execution_count": 13,
   "metadata": {},
   "outputs": [],
   "source": [
    "from tensorflow.keras.callbacks import EarlyStopping,TensorBoard"
   ]
  },
  {
   "cell_type": "code",
   "execution_count": 14,
   "metadata": {},
   "outputs": [],
   "source": [
    "early_stop = EarlyStopping(monitor='val_loss', mode='min', verbose=1, patience=25)"
   ]
  },
  {
   "cell_type": "code",
   "execution_count": 15,
   "metadata": {},
   "outputs": [
    {
     "data": {
      "text/plain": [
       "'C:\\\\Users\\\\dthoms\\\\Documents\\\\Training\\\\Udemy\\\\Refactored_Py_DS_ML_Bootcamp-master\\\\Completed'"
      ]
     },
     "execution_count": 15,
     "metadata": {},
     "output_type": "execute_result"
    }
   ],
   "source": [
    "pwd"
   ]
  },
  {
   "cell_type": "markdown",
   "metadata": {},
   "source": [
    "## Creating the Tensorboard Callback\n",
    "\n",
    "TensorBoard is a visualization tool provided with TensorFlow.\n",
    "\n",
    "This callback logs events for TensorBoard, including:\n",
    "* Metrics summary plots\n",
    "* Training graph visualization\n",
    "* Activation histograms\n",
    "* Sampled profiling\n",
    "\n",
    "If you have installed TensorFlow with pip, you should be able\n",
    "to launch TensorBoard from the command line:\n",
    "\n",
    "```sh\n",
    "tensorboard --logdir=path_to_your_logs\n",
    "```\n",
    "\n",
    "You can find more information about TensorBoard\n",
    "[here](https://www.tensorflow.org/tensorboard/).\n",
    "\n",
    "    Arguments:\n",
    "        log_dir: the path of the directory where to save the log files to be\n",
    "          parsed by TensorBoard.\n",
    "        histogram_freq: frequency (in epochs) at which to compute activation and\n",
    "          weight histograms for the layers of the model. If set to 0, histograms\n",
    "          won't be computed. Validation data (or split) must be specified for\n",
    "          histogram visualizations.\n",
    "        write_graph: whether to visualize the graph in TensorBoard. The log file\n",
    "          can become quite large when write_graph is set to True.\n",
    "        write_images: whether to write model weights to visualize as image in\n",
    "          TensorBoard.\n",
    "        update_freq: `'batch'` or `'epoch'` or integer. When using `'batch'`,\n",
    "          writes the losses and metrics to TensorBoard after each batch. The same\n",
    "          applies for `'epoch'`. If using an integer, let's say `1000`, the\n",
    "          callback will write the metrics and losses to TensorBoard every 1000\n",
    "          samples. Note that writing too frequently to TensorBoard can slow down\n",
    "          your training.\n",
    "        profile_batch: Profile the batch to sample compute characteristics. By\n",
    "          default, it will profile the second batch. Set profile_batch=0 to\n",
    "          disable profiling. Must run in TensorFlow eager mode.\n",
    "        embeddings_freq: frequency (in epochs) at which embedding layers will\n",
    "          be visualized. If set to 0, embeddings won't be visualized.\n",
    "       "
   ]
  },
  {
   "cell_type": "code",
   "execution_count": 16,
   "metadata": {},
   "outputs": [],
   "source": [
    "from datetime import datetime"
   ]
  },
  {
   "cell_type": "code",
   "execution_count": 17,
   "metadata": {},
   "outputs": [
    {
     "data": {
      "text/plain": [
       "'2020-07-14--0931'"
      ]
     },
     "execution_count": 17,
     "metadata": {},
     "output_type": "execute_result"
    }
   ],
   "source": [
    "datetime.now().strftime(\"%Y-%m-%d--%H%M\")"
   ]
  },
  {
   "cell_type": "code",
   "execution_count": 18,
   "metadata": {},
   "outputs": [],
   "source": [
    "# WINDOWS: Use \"logs\\\\fit\"\n",
    "# MACOS/LINUX: Use \"logs\\fit\"\n",
    "\n",
    "log_directory = 'logs\\\\fit'\n",
    "\n",
    "# OPTIONAL: ADD A TIMESTAMP FOR UNIQUE FOLDER\n",
    "# timestamp = datetime.now().strftime(\"%Y-%m-%d--%H%M\")\n",
    "# log_directory = log_directory + '\\\\' + timestamp\n",
    "\n",
    "\n",
    "board = TensorBoard(log_dir=log_directory,histogram_freq=1,\n",
    "    write_graph=True,\n",
    "    write_images=True,\n",
    "    update_freq='epoch',\n",
    "    profile_batch=2,\n",
    "    embeddings_freq=1)"
   ]
  },
  {
   "cell_type": "markdown",
   "metadata": {},
   "source": [
    "Now create the model layers:"
   ]
  },
  {
   "cell_type": "code",
   "execution_count": 19,
   "metadata": {},
   "outputs": [],
   "source": [
    "model = Sequential()\n",
    "model.add(Dense(units=30,activation='relu'))\n",
    "model.add(Dropout(0.5))\n",
    "model.add(Dense(units=15,activation='relu'))\n",
    "model.add(Dropout(0.5))\n",
    "model.add(Dense(units=1,activation='sigmoid'))\n",
    "model.compile(loss='binary_crossentropy', optimizer='adam')"
   ]
  },
  {
   "cell_type": "markdown",
   "metadata": {},
   "source": [
    "## Train the Model"
   ]
  },
  {
   "cell_type": "code",
   "execution_count": 20,
   "metadata": {},
   "outputs": [
    {
     "name": "stdout",
     "output_type": "stream",
     "text": [
      "Train on 426 samples, validate on 143 samples\n",
      "Epoch 1/600\n",
      "426/426 [==============================] - 1s 2ms/sample - loss: 0.6958 - val_loss: 0.6703\n",
      "Epoch 2/600\n",
      "426/426 [==============================] - 0s 171us/sample - loss: 0.6798 - val_loss: 0.6550\n",
      "Epoch 3/600\n",
      "426/426 [==============================] - 0s 164us/sample - loss: 0.6438 - val_loss: 0.6359\n",
      "Epoch 4/600\n",
      "426/426 [==============================] - 0s 194us/sample - loss: 0.6483 - val_loss: 0.6169\n",
      "Epoch 5/600\n",
      "426/426 [==============================] - 0s 185us/sample - loss: 0.6270 - val_loss: 0.5938\n",
      "Epoch 6/600\n",
      "426/426 [==============================] - 0s 168us/sample - loss: 0.6086 - val_loss: 0.5708\n",
      "Epoch 7/600\n",
      "426/426 [==============================] - 0s 166us/sample - loss: 0.5947 - val_loss: 0.5427\n",
      "Epoch 8/600\n",
      "426/426 [==============================] - 0s 162us/sample - loss: 0.5744 - val_loss: 0.5134\n",
      "Epoch 9/600\n",
      "426/426 [==============================] - 0s 172us/sample - loss: 0.5431 - val_loss: 0.4896\n",
      "Epoch 10/600\n",
      "426/426 [==============================] - 0s 180us/sample - loss: 0.5197 - val_loss: 0.4626\n",
      "Epoch 11/600\n",
      "426/426 [==============================] - 0s 187us/sample - loss: 0.5175 - val_loss: 0.4403\n",
      "Epoch 12/600\n",
      "426/426 [==============================] - 0s 164us/sample - loss: 0.4866 - val_loss: 0.4160\n",
      "Epoch 13/600\n",
      "426/426 [==============================] - 0s 166us/sample - loss: 0.4807 - val_loss: 0.3890\n",
      "Epoch 14/600\n",
      "426/426 [==============================] - 0s 162us/sample - loss: 0.4441 - val_loss: 0.3596\n",
      "Epoch 15/600\n",
      "426/426 [==============================] - 0s 169us/sample - loss: 0.4283 - val_loss: 0.3333\n",
      "Epoch 16/600\n",
      "426/426 [==============================] - 0s 159us/sample - loss: 0.4084 - val_loss: 0.3167\n",
      "Epoch 17/600\n",
      "426/426 [==============================] - 0s 164us/sample - loss: 0.3910 - val_loss: 0.2976\n",
      "Epoch 18/600\n",
      "426/426 [==============================] - 0s 169us/sample - loss: 0.3960 - val_loss: 0.2911\n",
      "Epoch 19/600\n",
      "426/426 [==============================] - 0s 190us/sample - loss: 0.3982 - val_loss: 0.2847\n",
      "Epoch 20/600\n",
      "426/426 [==============================] - 0s 183us/sample - loss: 0.3595 - val_loss: 0.2744\n",
      "Epoch 21/600\n",
      "426/426 [==============================] - 0s 159us/sample - loss: 0.3643 - val_loss: 0.2605\n",
      "Epoch 22/600\n",
      "426/426 [==============================] - 0s 186us/sample - loss: 0.3180 - val_loss: 0.2414\n",
      "Epoch 23/600\n",
      "426/426 [==============================] - 0s 185us/sample - loss: 0.2943 - val_loss: 0.2289\n",
      "Epoch 24/600\n",
      "426/426 [==============================] - 0s 169us/sample - loss: 0.3176 - val_loss: 0.2161\n",
      "Epoch 25/600\n",
      "426/426 [==============================] - 0s 183us/sample - loss: 0.2827 - val_loss: 0.2006\n",
      "Epoch 26/600\n",
      "426/426 [==============================] - 0s 173us/sample - loss: 0.2996 - val_loss: 0.1943\n",
      "Epoch 27/600\n",
      "426/426 [==============================] - 0s 183us/sample - loss: 0.2803 - val_loss: 0.1872\n",
      "Epoch 28/600\n",
      "426/426 [==============================] - 0s 231us/sample - loss: 0.2766 - val_loss: 0.1851\n",
      "Epoch 29/600\n",
      "426/426 [==============================] - 0s 183us/sample - loss: 0.2790 - val_loss: 0.1814\n",
      "Epoch 30/600\n",
      "426/426 [==============================] - 0s 175us/sample - loss: 0.2714 - val_loss: 0.1790\n",
      "Epoch 31/600\n",
      "426/426 [==============================] - 0s 193us/sample - loss: 0.2741 - val_loss: 0.1747\n",
      "Epoch 32/600\n",
      "426/426 [==============================] - 0s 197us/sample - loss: 0.2470 - val_loss: 0.1658\n",
      "Epoch 33/600\n",
      "426/426 [==============================] - 0s 171us/sample - loss: 0.2433 - val_loss: 0.1635\n",
      "Epoch 34/600\n",
      "426/426 [==============================] - 0s 157us/sample - loss: 0.2499 - val_loss: 0.1583\n",
      "Epoch 35/600\n",
      "426/426 [==============================] - 0s 157us/sample - loss: 0.2533 - val_loss: 0.1537\n",
      "Epoch 36/600\n",
      "426/426 [==============================] - 0s 162us/sample - loss: 0.2269 - val_loss: 0.1557\n",
      "Epoch 37/600\n",
      "426/426 [==============================] - 0s 166us/sample - loss: 0.2211 - val_loss: 0.1474\n",
      "Epoch 38/600\n",
      "426/426 [==============================] - 0s 162us/sample - loss: 0.2221 - val_loss: 0.1417\n",
      "Epoch 39/600\n",
      "426/426 [==============================] - 0s 176us/sample - loss: 0.2148 - val_loss: 0.1388\n",
      "Epoch 40/600\n",
      "426/426 [==============================] - 0s 190us/sample - loss: 0.2339 - val_loss: 0.1377\n",
      "Epoch 41/600\n",
      "426/426 [==============================] - 0s 293us/sample - loss: 0.2027 - val_loss: 0.1472\n",
      "Epoch 42/600\n",
      "426/426 [==============================] - 0s 350us/sample - loss: 0.2217 - val_loss: 0.1281\n",
      "Epoch 43/600\n",
      "426/426 [==============================] - 0s 218us/sample - loss: 0.1875 - val_loss: 0.1268\n",
      "Epoch 44/600\n",
      "426/426 [==============================] - 0s 204us/sample - loss: 0.1989 - val_loss: 0.1247\n",
      "Epoch 45/600\n",
      "426/426 [==============================] - 0s 176us/sample - loss: 0.2193 - val_loss: 0.1291\n",
      "Epoch 46/600\n",
      "426/426 [==============================] - 0s 240us/sample - loss: 0.1755 - val_loss: 0.1232\n",
      "Epoch 47/600\n",
      "426/426 [==============================] - 0s 251us/sample - loss: 0.1712 - val_loss: 0.1188\n",
      "Epoch 48/600\n",
      "426/426 [==============================] - 0s 185us/sample - loss: 0.2008 - val_loss: 0.1207\n",
      "Epoch 49/600\n",
      "426/426 [==============================] - 0s 201us/sample - loss: 0.1693 - val_loss: 0.1120\n",
      "Epoch 50/600\n",
      "426/426 [==============================] - 0s 285us/sample - loss: 0.1581 - val_loss: 0.1095\n",
      "Epoch 51/600\n",
      "426/426 [==============================] - 0s 314us/sample - loss: 0.1931 - val_loss: 0.1056\n",
      "Epoch 52/600\n",
      "426/426 [==============================] - 0s 197us/sample - loss: 0.1563 - val_loss: 0.1056\n",
      "Epoch 53/600\n",
      "426/426 [==============================] - 0s 187us/sample - loss: 0.1802 - val_loss: 0.1062\n",
      "Epoch 54/600\n",
      "426/426 [==============================] - 0s 176us/sample - loss: 0.1625 - val_loss: 0.1048\n",
      "Epoch 55/600\n",
      "426/426 [==============================] - 0s 197us/sample - loss: 0.1810 - val_loss: 0.1112\n",
      "Epoch 56/600\n",
      "426/426 [==============================] - 0s 180us/sample - loss: 0.1497 - val_loss: 0.1025\n",
      "Epoch 57/600\n",
      "426/426 [==============================] - 0s 190us/sample - loss: 0.1435 - val_loss: 0.0980\n",
      "Epoch 58/600\n",
      "426/426 [==============================] - 0s 180us/sample - loss: 0.1404 - val_loss: 0.0964\n",
      "Epoch 59/600\n",
      "426/426 [==============================] - 0s 180us/sample - loss: 0.1468 - val_loss: 0.0971\n",
      "Epoch 60/600\n",
      "426/426 [==============================] - 0s 208us/sample - loss: 0.1449 - val_loss: 0.1070\n",
      "Epoch 61/600\n",
      "426/426 [==============================] - 0s 180us/sample - loss: 0.1579 - val_loss: 0.0990\n",
      "Epoch 62/600\n",
      "426/426 [==============================] - 0s 191us/sample - loss: 0.1517 - val_loss: 0.0988\n",
      "Epoch 63/600\n",
      "426/426 [==============================] - 0s 166us/sample - loss: 0.1594 - val_loss: 0.0925\n",
      "Epoch 64/600\n",
      "426/426 [==============================] - 0s 199us/sample - loss: 0.1349 - val_loss: 0.0976\n",
      "Epoch 65/600\n",
      "426/426 [==============================] - 0s 210us/sample - loss: 0.1470 - val_loss: 0.0905\n",
      "Epoch 66/600\n",
      "426/426 [==============================] - 0s 192us/sample - loss: 0.1428 - val_loss: 0.0873\n",
      "Epoch 67/600\n",
      "426/426 [==============================] - 0s 204us/sample - loss: 0.1486 - val_loss: 0.1004\n",
      "Epoch 68/600\n",
      "426/426 [==============================] - 0s 204us/sample - loss: 0.1674 - val_loss: 0.0910\n",
      "Epoch 69/600\n",
      "426/426 [==============================] - 0s 194us/sample - loss: 0.1431 - val_loss: 0.0894\n",
      "Epoch 70/600\n",
      "426/426 [==============================] - 0s 190us/sample - loss: 0.1471 - val_loss: 0.0872\n",
      "Epoch 71/600\n",
      "426/426 [==============================] - 0s 178us/sample - loss: 0.1395 - val_loss: 0.0965\n",
      "Epoch 72/600\n",
      "426/426 [==============================] - 0s 229us/sample - loss: 0.1457 - val_loss: 0.0904\n",
      "Epoch 73/600\n",
      "426/426 [==============================] - 0s 194us/sample - loss: 0.1239 - val_loss: 0.0926\n",
      "Epoch 74/600\n",
      "426/426 [==============================] - 0s 171us/sample - loss: 0.1488 - val_loss: 0.0915\n",
      "Epoch 75/600\n",
      "426/426 [==============================] - 0s 190us/sample - loss: 0.1577 - val_loss: 0.1007\n",
      "Epoch 76/600\n",
      "426/426 [==============================] - 0s 276us/sample - loss: 0.1298 - val_loss: 0.0899\n",
      "Epoch 77/600\n",
      "426/426 [==============================] - 0s 283us/sample - loss: 0.1328 - val_loss: 0.0882\n"
     ]
    },
    {
     "name": "stdout",
     "output_type": "stream",
     "text": [
      "Epoch 78/600\n",
      "426/426 [==============================] - 0s 178us/sample - loss: 0.1362 - val_loss: 0.0862\n",
      "Epoch 79/600\n",
      "426/426 [==============================] - 0s 165us/sample - loss: 0.1483 - val_loss: 0.0827\n",
      "Epoch 80/600\n",
      "426/426 [==============================] - 0s 162us/sample - loss: 0.1351 - val_loss: 0.0876\n",
      "Epoch 81/600\n",
      "426/426 [==============================] - 0s 221us/sample - loss: 0.1284 - val_loss: 0.0869\n",
      "Epoch 82/600\n",
      "426/426 [==============================] - 0s 362us/sample - loss: 0.1353 - val_loss: 0.0925\n",
      "Epoch 83/600\n",
      "426/426 [==============================] - 0s 339us/sample - loss: 0.1405 - val_loss: 0.1040\n",
      "Epoch 84/600\n",
      "426/426 [==============================] - 0s 298us/sample - loss: 0.1187 - val_loss: 0.0803\n",
      "Epoch 85/600\n",
      "426/426 [==============================] - 0s 197us/sample - loss: 0.1306 - val_loss: 0.0810\n",
      "Epoch 86/600\n",
      "426/426 [==============================] - 0s 195us/sample - loss: 0.1273 - val_loss: 0.0881\n",
      "Epoch 87/600\n",
      "426/426 [==============================] - 0s 239us/sample - loss: 0.1193 - val_loss: 0.0853\n",
      "Epoch 88/600\n",
      "426/426 [==============================] - 0s 225us/sample - loss: 0.1406 - val_loss: 0.0843\n",
      "Epoch 89/600\n",
      "426/426 [==============================] - 0s 197us/sample - loss: 0.1314 - val_loss: 0.0817\n",
      "Epoch 90/600\n",
      "426/426 [==============================] - 0s 190us/sample - loss: 0.1055 - val_loss: 0.0865\n",
      "Epoch 91/600\n",
      "426/426 [==============================] - 0s 164us/sample - loss: 0.1227 - val_loss: 0.0830\n",
      "Epoch 92/600\n",
      "426/426 [==============================] - 0s 178us/sample - loss: 0.1178 - val_loss: 0.0836\n",
      "Epoch 93/600\n",
      "426/426 [==============================] - 0s 249us/sample - loss: 0.0923 - val_loss: 0.0814\n",
      "Epoch 94/600\n",
      "426/426 [==============================] - 0s 188us/sample - loss: 0.1151 - val_loss: 0.0849\n",
      "Epoch 95/600\n",
      "426/426 [==============================] - 0s 191us/sample - loss: 0.1250 - val_loss: 0.0810\n",
      "Epoch 96/600\n",
      "426/426 [==============================] - 0s 220us/sample - loss: 0.1283 - val_loss: 0.0777\n",
      "Epoch 97/600\n",
      "426/426 [==============================] - 0s 194us/sample - loss: 0.1280 - val_loss: 0.0793\n",
      "Epoch 98/600\n",
      "426/426 [==============================] - 0s 171us/sample - loss: 0.1248 - val_loss: 0.0916\n",
      "Epoch 99/600\n",
      "426/426 [==============================] - 0s 189us/sample - loss: 0.1470 - val_loss: 0.0801\n",
      "Epoch 100/600\n",
      "426/426 [==============================] - 0s 176us/sample - loss: 0.1178 - val_loss: 0.0863\n",
      "Epoch 101/600\n",
      "426/426 [==============================] - 0s 187us/sample - loss: 0.1167 - val_loss: 0.0917\n",
      "Epoch 102/600\n",
      "426/426 [==============================] - 0s 172us/sample - loss: 0.0954 - val_loss: 0.0837\n",
      "Epoch 103/600\n",
      "426/426 [==============================] - 0s 194us/sample - loss: 0.0829 - val_loss: 0.0807\n",
      "Epoch 104/600\n",
      "426/426 [==============================] - 0s 189us/sample - loss: 0.1128 - val_loss: 0.0878\n",
      "Epoch 105/600\n",
      "426/426 [==============================] - 0s 179us/sample - loss: 0.1244 - val_loss: 0.0849\n",
      "Epoch 106/600\n",
      "426/426 [==============================] - 0s 190us/sample - loss: 0.1220 - val_loss: 0.0751\n",
      "Epoch 107/600\n",
      "426/426 [==============================] - 0s 199us/sample - loss: 0.1165 - val_loss: 0.0872\n",
      "Epoch 108/600\n",
      "426/426 [==============================] - 0s 174us/sample - loss: 0.1222 - val_loss: 0.0895\n",
      "Epoch 109/600\n",
      "426/426 [==============================] - 0s 198us/sample - loss: 0.1249 - val_loss: 0.0726\n",
      "Epoch 110/600\n",
      "426/426 [==============================] - 0s 232us/sample - loss: 0.1183 - val_loss: 0.0897\n",
      "Epoch 111/600\n",
      "426/426 [==============================] - 0s 190us/sample - loss: 0.1149 - val_loss: 0.0882\n",
      "Epoch 112/600\n",
      "426/426 [==============================] - 0s 195us/sample - loss: 0.0955 - val_loss: 0.0775\n",
      "Epoch 113/600\n",
      "426/426 [==============================] - 0s 185us/sample - loss: 0.0771 - val_loss: 0.0721\n",
      "Epoch 114/600\n",
      "426/426 [==============================] - 0s 169us/sample - loss: 0.0934 - val_loss: 0.0769\n",
      "Epoch 115/600\n",
      "426/426 [==============================] - 0s 219us/sample - loss: 0.0991 - val_loss: 0.0839\n",
      "Epoch 116/600\n",
      "426/426 [==============================] - 0s 187us/sample - loss: 0.1209 - val_loss: 0.0941\n",
      "Epoch 117/600\n",
      "426/426 [==============================] - 0s 206us/sample - loss: 0.0843 - val_loss: 0.0729\n",
      "Epoch 118/600\n",
      "426/426 [==============================] - 0s 223us/sample - loss: 0.0935 - val_loss: 0.0781\n",
      "Epoch 119/600\n",
      "426/426 [==============================] - 0s 187us/sample - loss: 0.0940 - val_loss: 0.0926\n",
      "Epoch 120/600\n",
      "426/426 [==============================] - 0s 169us/sample - loss: 0.1112 - val_loss: 0.0740\n",
      "Epoch 121/600\n",
      "426/426 [==============================] - 0s 215us/sample - loss: 0.1181 - val_loss: 0.0863\n",
      "Epoch 122/600\n",
      "426/426 [==============================] - 0s 250us/sample - loss: 0.1025 - val_loss: 0.1169\n",
      "Epoch 123/600\n",
      "426/426 [==============================] - 0s 227us/sample - loss: 0.1038 - val_loss: 0.0810\n",
      "Epoch 124/600\n",
      "426/426 [==============================] - 0s 162us/sample - loss: 0.1101 - val_loss: 0.0922\n",
      "Epoch 125/600\n",
      "426/426 [==============================] - 0s 230us/sample - loss: 0.1049 - val_loss: 0.0879\n",
      "Epoch 126/600\n",
      "426/426 [==============================] - 0s 267us/sample - loss: 0.1042 - val_loss: 0.0959\n",
      "Epoch 127/600\n",
      "426/426 [==============================] - 0s 176us/sample - loss: 0.1010 - val_loss: 0.0862\n",
      "Epoch 128/600\n",
      "426/426 [==============================] - 0s 190us/sample - loss: 0.0905 - val_loss: 0.0899\n",
      "Epoch 129/600\n",
      "426/426 [==============================] - 0s 178us/sample - loss: 0.1089 - val_loss: 0.0777\n",
      "Epoch 130/600\n",
      "426/426 [==============================] - 0s 225us/sample - loss: 0.1091 - val_loss: 0.0794\n",
      "Epoch 131/600\n",
      "426/426 [==============================] - 0s 283us/sample - loss: 0.1078 - val_loss: 0.0758\n",
      "Epoch 132/600\n",
      "426/426 [==============================] - ETA: 0s - loss: 0.085 - 0s 395us/sample - loss: 0.1103 - val_loss: 0.0804\n",
      "Epoch 133/600\n",
      "426/426 [==============================] - 0s 269us/sample - loss: 0.1118 - val_loss: 0.0735\n",
      "Epoch 134/600\n",
      "426/426 [==============================] - 0s 251us/sample - loss: 0.1048 - val_loss: 0.0923\n",
      "Epoch 135/600\n",
      "426/426 [==============================] - 0s 227us/sample - loss: 0.0904 - val_loss: 0.0802\n",
      "Epoch 136/600\n",
      "426/426 [==============================] - 0s 255us/sample - loss: 0.1050 - val_loss: 0.0719\n",
      "Epoch 137/600\n",
      "426/426 [==============================] - 0s 232us/sample - loss: 0.0984 - val_loss: 0.0862\n",
      "Epoch 138/600\n",
      "426/426 [==============================] - 0s 335us/sample - loss: 0.0900 - val_loss: 0.0880\n",
      "Epoch 139/600\n",
      "426/426 [==============================] - 0s 365us/sample - loss: 0.0845 - val_loss: 0.0700\n",
      "Epoch 140/600\n",
      "426/426 [==============================] - 0s 276us/sample - loss: 0.1014 - val_loss: 0.0727\n",
      "Epoch 141/600\n",
      "426/426 [==============================] - 0s 204us/sample - loss: 0.1089 - val_loss: 0.0709\n",
      "Epoch 142/600\n",
      "426/426 [==============================] - 0s 147us/sample - loss: 0.1099 - val_loss: 0.0821\n",
      "Epoch 143/600\n",
      "426/426 [==============================] - 0s 166us/sample - loss: 0.0913 - val_loss: 0.0909\n",
      "Epoch 144/600\n",
      "426/426 [==============================] - 0s 163us/sample - loss: 0.0924 - val_loss: 0.0801\n",
      "Epoch 145/600\n",
      "426/426 [==============================] - 0s 190us/sample - loss: 0.1065 - val_loss: 0.0797\n",
      "Epoch 146/600\n",
      "426/426 [==============================] - 0s 174us/sample - loss: 0.0915 - val_loss: 0.0712\n",
      "Epoch 147/600\n",
      "426/426 [==============================] - 0s 157us/sample - loss: 0.1045 - val_loss: 0.0766\n",
      "Epoch 148/600\n",
      "426/426 [==============================] - 0s 168us/sample - loss: 0.0895 - val_loss: 0.0948\n",
      "Epoch 149/600\n",
      "426/426 [==============================] - 0s 159us/sample - loss: 0.1107 - val_loss: 0.0844\n",
      "Epoch 150/600\n",
      "426/426 [==============================] - 0s 174us/sample - loss: 0.1113 - val_loss: 0.0787\n",
      "Epoch 151/600\n",
      "426/426 [==============================] - 0s 169us/sample - loss: 0.0933 - val_loss: 0.0755\n",
      "Epoch 152/600\n",
      "426/426 [==============================] - 0s 194us/sample - loss: 0.0965 - val_loss: 0.0855\n",
      "Epoch 153/600\n",
      "426/426 [==============================] - 0s 200us/sample - loss: 0.0827 - val_loss: 0.0881\n",
      "Epoch 154/600\n"
     ]
    },
    {
     "name": "stdout",
     "output_type": "stream",
     "text": [
      "426/426 [==============================] - 0s 171us/sample - loss: 0.0977 - val_loss: 0.0792\n",
      "Epoch 155/600\n",
      "426/426 [==============================] - 0s 155us/sample - loss: 0.0711 - val_loss: 0.0756\n",
      "Epoch 156/600\n",
      "426/426 [==============================] - 0s 150us/sample - loss: 0.0836 - val_loss: 0.0859\n",
      "Epoch 157/600\n",
      "426/426 [==============================] - 0s 437us/sample - loss: 0.0908 - val_loss: 0.1074\n",
      "Epoch 158/600\n",
      "426/426 [==============================] - 0s 201us/sample - loss: 0.0894 - val_loss: 0.0861\n",
      "Epoch 159/600\n",
      "426/426 [==============================] - 0s 159us/sample - loss: 0.0901 - val_loss: 0.0763\n",
      "Epoch 160/600\n",
      "426/426 [==============================] - 0s 159us/sample - loss: 0.1049 - val_loss: 0.0799\n",
      "Epoch 161/600\n",
      "426/426 [==============================] - 0s 157us/sample - loss: 0.0591 - val_loss: 0.0937\n",
      "Epoch 162/600\n",
      "426/426 [==============================] - 0s 176us/sample - loss: 0.0951 - val_loss: 0.1006\n",
      "Epoch 163/600\n",
      "426/426 [==============================] - 0s 162us/sample - loss: 0.0937 - val_loss: 0.0712\n",
      "Epoch 164/600\n",
      "426/426 [==============================] - 0s 171us/sample - loss: 0.0715 - val_loss: 0.0838\n",
      "Epoch 00164: early stopping\n"
     ]
    },
    {
     "data": {
      "text/plain": [
       "<tensorflow.python.keras.callbacks.History at 0x1e4b754fdc8>"
      ]
     },
     "execution_count": 20,
     "metadata": {},
     "output_type": "execute_result"
    }
   ],
   "source": [
    "model.fit(x=X_train, \n",
    "          y=y_train, \n",
    "          epochs=600,\n",
    "          validation_data=(X_test, y_test), verbose=1,\n",
    "          callbacks=[early_stop,board]\n",
    "          )"
   ]
  },
  {
   "cell_type": "markdown",
   "metadata": {},
   "source": [
    "# Running Tensorboard\n"
   ]
  },
  {
   "cell_type": "markdown",
   "metadata": {},
   "source": [
    "## Running through the Command Line\n",
    "\n",
    "**Watch video to see how to run Tensorboard through a command line call.**"
   ]
  },
  {
   "cell_type": "markdown",
   "metadata": {},
   "source": [
    "Tensorboard will run locally in your browser at [http://localhost:6006/](http://localhost:6006/)\n"
   ]
  },
  {
   "cell_type": "code",
   "execution_count": 21,
   "metadata": {},
   "outputs": [
    {
     "name": "stdout",
     "output_type": "stream",
     "text": [
      "logs\\fit\n"
     ]
    }
   ],
   "source": [
    "print(log_directory)"
   ]
  },
  {
   "cell_type": "code",
   "execution_count": 22,
   "metadata": {},
   "outputs": [
    {
     "data": {
      "text/plain": [
       "'C:\\\\Users\\\\dthoms\\\\Documents\\\\Training\\\\Udemy\\\\Refactored_Py_DS_ML_Bootcamp-master\\\\Completed'"
      ]
     },
     "execution_count": 22,
     "metadata": {},
     "output_type": "execute_result"
    }
   ],
   "source": [
    "pwd"
   ]
  },
  {
   "cell_type": "markdown",
   "metadata": {},
   "source": [
    "### Use cd at your command line to change directory to the file path reported back by pwd or your current .py file location.\n",
    "### Then run this code at your command line or terminal"
   ]
  },
  {
   "cell_type": "code",
   "execution_count": null,
   "metadata": {},
   "outputs": [],
   "source": [
    "tensorboard --logdir logs\\fit "
   ]
  }
 ],
 "metadata": {
  "kernelspec": {
   "display_name": "Python 3",
   "language": "python",
   "name": "python3"
  },
  "language_info": {
   "codemirror_mode": {
    "name": "ipython",
    "version": 3
   },
   "file_extension": ".py",
   "mimetype": "text/x-python",
   "name": "python",
   "nbconvert_exporter": "python",
   "pygments_lexer": "ipython3",
   "version": "3.7.7"
  }
 },
 "nbformat": 4,
 "nbformat_minor": 2
}
